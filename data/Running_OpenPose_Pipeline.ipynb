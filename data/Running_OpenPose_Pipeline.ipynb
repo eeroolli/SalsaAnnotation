{
  "cells": [
    {
      "cell_type": "markdown",
      "metadata": {
        "colab_type": "text",
        "id": "view-in-github"
      },
      "source": [
        "<a href=\"https://colab.research.google.com/github/eeroolli/SalsaAnnotation/blob/development/Running_OpenPose_Pipeline.ipynb\" target=\"_parent\"><img src=\"https://colab.research.google.com/assets/colab-badge.svg\" alt=\"Open In Colab\"/></a>"
      ]
    },
    {
      "cell_type": "markdown",
      "metadata": {
        "id": "L8kn_DzBjXI1"
      },
      "source": [
        "## Running preprocessing with OpenPose\n",
        "\n",
        "This works in Colab and contains most of the functions needed.\n",
        "\n",
        "Single file to run\n",
        "\n",
        "*   VideoProcessing.ipynb\n",
        "*   AnnotationFile.ipynb (better to run in it locally)\n",
        "*  Parsing-Openpose-Annotation.ipynb   (better to run in it locally)\n"
      ]
    },
    {
      "cell_type": "code",
      "execution_count": 30,
      "metadata": {
        "colab": {
          "base_uri": "https://localhost:8080/"
        },
        "id": "p7Ol70fgIpDp",
        "outputId": "302e4d57-9e4b-4f9e-de27-40540e6c9053"
      },
      "outputs": [
        {
          "name": "stdout",
          "output_type": "stream",
          "text": [
            "Using  /content/gdrive/MyDrive/DanceApp  as root_path\n"
          ]
        }
      ],
      "source": [
        "\n",
        "# libraries needed from outside\n",
        "import os\n",
        "from os import mkdir\n",
        "from os.path import exists, join, basename, splitext\n",
        "import sys\n",
        "import glob                       # help for finding files\n",
        "from re import split              # regular expression string splitter\n",
        "import subprocess                 #subprocess wraps around regular os commands\n",
        "import shutil                     # used for copying files in the os.\n",
        "\n",
        "from google.colab import drive\n",
        "if not os.path.isdir('/content/gdrive/MyDrive'):  # Speeds up the second run\n",
        "  drive.mount('/content/gdrive')\n",
        " \n",
        "if os.path.isdir('/content/gdrive/MyDrive'):     # Ana\n",
        "  google_drive_path = '/content/gdrive/MyDrive'\n",
        "if os.path.isdir('/content/gdrive/MyDrive/DSR'):  # Eero. ipython can deal with MyDrive, \n",
        "  # but some bash commands require the space in \"My Drive\" to work.  and some fail.\n",
        "  # I believe this has to do with what kind of \" \" '' one is using, as they must not be mixed. \n",
        "  google_drive_path = '/content/gdrive/MyDrive' \n",
        "else:\n",
        "  print(\"There is a problem google_drive_path.\")\n",
        "\n",
        "root_path   = os.path.join(google_drive_path ,  \"DanceApp\")  \n",
        "script_path = os.path.join(google_drive_path , \"2021-DSR-Porfolio\", \"python_scripts\") \n",
        "#one cannot add items to sys.path that have a space in them. \n",
        "\n",
        "if not script_path in sys.path:    #otherwise will add anew with every run of script.\n",
        "   sys.path.append(script_path)\n",
        "   print(\"Added script_path to search path.\")\n",
        "\n",
        "#the same for Ana and Eero.  Eero has now added a link from his DSR to Ana's 2021-DSR-Porfolio/\n",
        "#script_path = os.path.join(google_drive_path , \"2021-DSR-Porfolio/python_scripts\")\n",
        "print(\"Using \", root_path, \" as root_path\")\n",
        "# here = os.getcwd()\n",
        "# print(here)\n",
        "# print(sys.path)\n",
        "# sys.path = ['', '/content', '/env/python', '/usr/lib/python37.zip', '/usr/lib/python3.7', '/usr/lib/python3.7/lib-dynload', '/usr/local/lib/python3.7/dist-packages', '/usr/lib/python3/dist-packages', '/usr/local/lib/python3.7/dist-packages/IPython/extensions', '/root/.ipython']\n",
        "\n"
      ]
    },
    {
      "cell_type": "code",
      "execution_count": 30,
      "metadata": {
        "id": "nrwbuY91Pb_2"
      },
      "outputs": [],
      "source": []
    },
    {
      "cell_type": "markdown",
      "metadata": {
        "id": "0DmgqBeLMKY_"
      },
      "source": [
        "## Build OpenPose"
      ]
    },
    {
      "cell_type": "code",
      "execution_count": 31,
      "metadata": {
        "id": "pnZZ9uRJI5C1"
      },
      "outputs": [],
      "source": [
        "\n",
        "# Path and variables to build OpenPose\n",
        "git_repo_url = 'https://github.com/CMU-Perceptual-Computing-Lab/openpose.git'\n",
        "project_name = splitext(basename(git_repo_url))[0]\n",
        "if not exists(project_name):    ## This saves Lots of time when rerunning the whole notebook.\n",
        "  # see: https://github.com/CMU-Perceptual-Computing-Lab/openpose/issues/949\n",
        "  # install new CMake becaue of CUDA10\n",
        "  !wget -q https://cmake.org/files/v3.13/cmake-3.13.0-Linux-x86_64.tar.gz\n",
        "  !tar xfz cmake-3.13.0-Linux-x86_64.tar.gz --strip-components=1 -C /usr/local\n",
        "  # clone openpose\n",
        "  !git clone -q --depth 1 $git_repo_url\n",
        "  !sed -i 's/execute_process(COMMAND git checkout master WORKING_DIRECTORY ${CMAKE_SOURCE_DIR}\\/3rdparty\\/caffe)/execute_process(COMMAND git checkout f019d0dfe86f49d1140961f8c7dec22130c83154 WORKING_DIRECTORY ${CMAKE_SOURCE_DIR}\\/3rdparty\\/caffe)/g' openpose/CMakeLists.txt\n",
        "  # install system dependencies\n",
        "  !apt-get -qq install -y libatlas-base-dev libprotobuf-dev libleveldb-dev libsnappy-dev libhdf5-serial-dev protobuf-compiler libgflags-dev libgoogle-glog-dev liblmdb-dev opencl-headers ocl-icd-opencl-dev libviennacl-dev\n",
        "  # install python dependencies\n",
        "  !pip install -q youtube-dl\n",
        "  # build openpose\n",
        "  !cd openpose && rm -rf build || true && mkdir build && cd build && cmake .. && make -j`nproc`\n",
        "# !ffprobe -v 0 -of csv=p=0 -select_streams v:0 -show_entries stream=r_frame_rate $video \n",
        "# Function to run OpenPose TODO, add this function to python script\n",
        "\n",
        "\n",
        "\n"
      ]
    },
    {
      "cell_type": "markdown",
      "metadata": {
        "id": "7AK6woolMNqt"
      },
      "source": [
        "## Define Functions"
      ]
    },
    {
      "cell_type": "markdown",
      "metadata": {
        "id": "ISCzpu55Q2Gt"
      },
      "source": [
        "### check_path() &  stop_if_no_path()"
      ]
    },
    {
      "cell_type": "code",
      "execution_count": 32,
      "metadata": {
        "id": "f5xgzD4YPYsF"
      },
      "outputs": [],
      "source": [
        "# TODO: move this to /utils ?\n",
        "\n",
        "def check_path(x):\n",
        "  if os.path.isdir(x):\n",
        "    print(\"Using\", x )\n",
        "  else:\n",
        "    print(\"Problem: There was no \", x)  # No error keeps running\n",
        "\n",
        "def stop_if_no_path(x):\n",
        "  if os.path.isdir(x):\n",
        "    print(\"Using\", x )\n",
        "  else:\n",
        "    raise Exception(\"Problem: There was no \", x)  # Throws an error and stops"
      ]
    },
    {
      "cell_type": "markdown",
      "metadata": {
        "id": "o2kjIH-dpCTm"
      },
      "source": [
        "\n"
      ]
    },
    {
      "cell_type": "code",
      "execution_count": 32,
      "metadata": {
        "id": "vQpcaq3p_o6k"
      },
      "outputs": [],
      "source": []
    },
    {
      "cell_type": "markdown",
      "metadata": {
        "id": "UNP7tFQSQ9mW"
      },
      "source": [
        "### resize_video()"
      ]
    },
    {
      "cell_type": "code",
      "execution_count": 33,
      "metadata": {
        "id": "j2a2dTWGVO4m"
      },
      "outputs": [],
      "source": [
        "def resize_video(new_height, video_in, clip_name, src_folder):\n",
        "    video_name, video_ext = splitext(clip_name)\n",
        "    print(\"\\n ################################ \\n\")\n",
        "    print(\"#     Resizing the video:     \")\n",
        "    print(\"clip_name: \", clip_name)\n",
        "    print(\"video_name: \", video_name, \" extention: \", video_ext)\n",
        "    \n",
        "    if os.path.isfile(video_in):\n",
        "      print(\"Found the input video_in\")\n",
        "    else:\n",
        "      print(\"The input video does not exist.\")\n",
        "      # raise Exception(\"No input video file\")\n",
        "\n",
        "    print(\"new hight will be: \", new_height)\n",
        "    resize_output_dir = os.path.join(root_path, src_folder ,\"h\" + str(new_height))\n",
        "    video_out = resize_output_dir + \"/\" + video_name + \"_h\" + str(new_height) + video_ext\n",
        "    print(\"the output video will be: \", video_out)\n",
        "\n",
        "    if not os.path.isdir(resize_output_dir):\n",
        "      os.mkdir(resize_output_dir)\n",
        "      print(\"Created a folder for resized video output:\", src_folder, \"/h\",str(new_height) )\n",
        "    else:\n",
        "      print(\"Folder for resized video output:\", src_folder, \"/h\",str(new_height) )\n",
        "    \n",
        "    if os.path.isfile(video_out):\n",
        "      print(\"The video has been resized previously\")\n",
        "    else:\n",
        "      print(\"The video is being resized, which takes often several minutes.\")\n",
        "      !ffmpeg -i $video_in -vf scale=-2:$new_height $video_out    # the -2 ensures that width is a even number as required\n",
        "    return video_out"
      ]
    },
    {
      "cell_type": "code",
      "execution_count": null,
      "metadata": {},
      "outputs": [],
      "source": [
        "def get_video_fps(video):\n",
        "  # Check for the speed of the video\n",
        "  frames_per_s = default_fps            # if everything fails there is a default value\n",
        "  if not os.path.isfile(video):\n",
        "    print(\"There video is missing: \\n \", video)\n",
        "  else:\n",
        "    print(\"OpenPose will now analyse \\n\", video)\n",
        "\n",
        "  print(os.getcwd())\n",
        "  text = !ffprobe -v 0 -of csv=p=0 -select_streams v:0 -show_entries stream=r_frame_rate $video \n",
        "  print(text)\n",
        "  #frames, seconds = text.split(\"/\")\n",
        "  frames, seconds = text[0].split(\"/\")\n",
        "  frames_per_s = int(frames) / int(seconds)\n",
        "  return frames_per_s"
      ]
    },
    {
      "cell_type": "markdown",
      "metadata": {
        "id": "mFGbUCmDRGb-"
      },
      "source": [
        "### load_video_run_openpose()"
      ]
    },
    {
      "cell_type": "code",
      "execution_count": 44,
      "metadata": {
        "id": "G8qpUIEBuyBy"
      },
      "outputs": [],
      "source": [
        "def load_video_run_openpose(video):\n",
        "  # video is a full filename with path\n",
        "  #requires that video_id and connected variables are set.   \n",
        "  print(\"\\n ################################ \\n\")\n",
        "  print(\"#     Run OpenPose:     \")\n",
        "\n",
        "  frames_per_s = get_video_fps(video)\n",
        "  \n",
        "  print(\"Number of frames per second: \", frames_per_s)\n",
        "  print(\"\\n\")\n",
        "  if frames_per_s > 20:\n",
        "    multiplikator_for_images_per_second = frames_per_s / save_frames_per_second\n",
        "  else:\n",
        "    multiplikator_for_images_per_second = default_fps / save_frames_per_second\n",
        "  \n",
        " \n",
        "  # detect poses\n",
        "  print(f\"Video for Openpose {video}\") \n",
        "  op_video = output_op_dir + \"/openpose.avi\"\n",
        "  op_json = output_op_dir + \"/json\"\n",
        "\n",
        "  if not os.path.exists(op_json): \n",
        "    !mkdir $op_json\n",
        "  \n",
        "  if skeleton_on_black_background==True: \n",
        "    !cd openpose && ./build/examples/openpose/openpose.bin --video $video --write_json $op_json --number_people_max 1 --display 0 --disable_blending  --write_video $op_video\n",
        "  elif skeleton_on_black_background==False: \n",
        "    !cd openpose && ./build/examples/openpose/openpose.bin --video $video --write_json $op_json --number_people_max 1 --display 0  --write_video $op_video\n",
        "  else:\n",
        "    raise Exception(\"You need to set the variable skeleton_on_black_background\") \n",
        "\n",
        "  \n",
        "  # convert the result into MP4\n",
        "  print(\" \")\n",
        "  print(\"============================== \")\n",
        "  print(\"Converting the stickfigure video to mp4 \")\n",
        "  print(\" \")\n",
        "\n",
        "  op_video_mp4 = output_op_dir + \"/openpose.mp4\"\n",
        "\n",
        "  if os.path.isfile(op_video): \n",
        "    !ffmpeg -y -loglevel info -i $op_video $op_video_mp4 #convert avi til mp4\n",
        "    os.remove(op_video)  # remove avi\n",
        "  else:\n",
        "    print(\"Something went wrong, as there was no output video from Openpose.\")\n",
        "    print(\"the output_op_dir contains:\")\n",
        "    print(os.listdir(output_op_dir))\n",
        "\n",
        "  # print(\" \")\n",
        "  # print(\"Creating single frame images \")\n",
        "  # print(\"============================== \")\n",
        "  # print(\" \")\n",
        "\n",
        "  ## Get only a selection of frames for labeling\n",
        "  ## TODO: the numbering should match the numbering of the json files\n",
        "  # save_frames_per_second = save_frames_per_second \n",
        "  # Optional to get the frames with the stick figures\n",
        "  # !ffmpeg -y -loglevel info -i \"output_op/$clip_name/openpose.mp4\" -s $size_of_single_frame -r $save_frames_per_second -f image2 \"output_op/$clip_name/frame-%06d.jpeg\" \n",
        "\n",
        "  print(\" \")\n",
        "  print(\"============================== \")  \n",
        "# print(video)\n",
        "# text = subprocess.getoutput('ffprobe -v 0 -of csv=p=0 -select_streams v:0 -show_entries stream=r_frame_rate $video') \n",
        "# text.split(\"/\")\n",
        "#frames, seconds = \n",
        "# frames_per_s = int(frames) / int(seconds)\n",
        "# frames_per_s  \n",
        "\n",
        "\n"
      ]
    },
    {
      "cell_type": "markdown",
      "metadata": {
        "id": "4G-CCBL_SAdM"
      },
      "source": [
        "### delete_outputs"
      ]
    },
    {
      "cell_type": "code",
      "execution_count": 35,
      "metadata": {
        "id": "o8fu6H2PEZT_"
      },
      "outputs": [],
      "source": [
        "def delete_outputs(video_id, root_path, output_dir):\n",
        "    # delete output_files from Openpose if they were already created\n",
        "    print(\"\\n ################################ \\n\")\n",
        "    print(\"Deleting old output files from the \", output_dir, video_id, \" folder\")\n",
        "    # create a list of files to delete\n",
        "    delete_files = glob.glob(os.path.join(root_path, output_dir, video_id, \"json\", \"*.json\"))\n",
        "    delete_files.extend(glob.glob(os.path.join(root_path, output_dir, video_id, \"*.mp4\")))\n",
        "    delete_files.extend(glob.glob(os.path.join(root_path, output_dir, video_id, \"*.MOV\")))\n",
        "    # delete_files.extend(glob.glob(os.path.join(root_path, \"output_op\", clip_name, \"*.avi\")))\n",
        "    # print(\"avi: \", delete_files[-1:])\n",
        "    [os.remove(x) for x in delete_files]\n",
        "    print(f\"Number of files deleted is {len(delete_files)}\")\n",
        "    print(\"\\n Now the output folder contains only these files:\")\n",
        "    print(glob.glob(os.path.join(root_path, output_dir, video_id, \"json\", \"*.json\")))"
      ]
    },
    {
      "cell_type": "markdown",
      "metadata": {
        "id": "TTc7n8zsSQZM"
      },
      "source": [
        "### rename_json()"
      ]
    },
    {
      "cell_type": "code",
      "execution_count": 36,
      "metadata": {
        "id": "PJjHTmg9EvjT"
      },
      "outputs": [],
      "source": [
        "def rename_json(video_id, root_path, output_dir):\n",
        "    print(\"\\n ################################ \\n\")\n",
        "    print(\"#     Rename JSON files:     \")\n",
        "    ## Better names for JSON\n",
        "    # find all json files and change the name\n",
        "    # os.chdir(original_working_dir)\n",
        "    print(os.getcwd())\n",
        "    paths_json = glob.glob(os.path.join(root_path, output_dir, video_id, \"json\", \"*.json\"))\n",
        "    paths_json = sorted(paths_json, reverse=True)\n",
        "\n",
        "    print(\"there are \", len(paths_json), \" json files to rename\")\n",
        "    if len(paths_json)>0:\n",
        "      for old_file in paths_json:\n",
        "          frame_number = old_file[-21:-15]  # counting backwards is safest, because folder names change\n",
        "          # print(f\"Frame {frame_number}\")\n",
        "          # print(f\"Old name {old_file}\")\n",
        "          new_file_name = os.path.join(root_path, output_dir, video_id, \"json\") + \"/frame-\" + frame_number + \".json\"\n",
        "          # print(f\"New name {new_file_name}\")\n",
        "          os.rename(old_file, new_file_name)\n",
        "\n",
        "      print(\" \")\n",
        "      print(\"All json are now renamed.\")\n",
        "    else:\n",
        "      print(\"nothing to be done.\")  \n",
        "    print(\"============================== \")\n",
        "\n",
        "    # delete old names\n",
        "    # [os.remove(x) for x in paths_json]\n",
        "    print(\" \")"
      ]
    },
    {
      "cell_type": "code",
      "execution_count": 37,
      "metadata": {
        "colab": {
          "base_uri": "https://localhost:8080/"
        },
        "id": "dxIs1ZDhpV-P",
        "outputId": "06e9e45d-809a-481b-ebbd-4ceff2788723"
      },
      "outputs": [
        {
          "data": {
            "text/plain": [
              "False"
            ]
          },
          "execution_count": 37,
          "metadata": {},
          "output_type": "execute_result"
        }
      ],
      "source": [
        "# ??vp.rename_json() \n",
        "os.path.isfile(\"/content/gdrive/MyDrive/DanceApp/1P_input_original/1p_ThomasW_16012122_choreo1.mp4\")"
      ]
    },
    {
      "cell_type": "code",
      "execution_count": 37,
      "metadata": {
        "id": "cvK9SIfPCfsH"
      },
      "outputs": [],
      "source": []
    },
    {
      "cell_type": "markdown",
      "metadata": {
        "id": "SLRvRylESco8"
      },
      "source": [
        "### play_video_in_colab"
      ]
    },
    {
      "cell_type": "code",
      "execution_count": 38,
      "metadata": {
        "id": "krM4KZuzCrke"
      },
      "outputs": [],
      "source": [
        "def play_video_in_colab(video_show):\n",
        "  #video_show should be a full path.\n",
        "  # this only plays compressed files!\n",
        "  from IPython.display import HTML\n",
        "  from base64 import b64encode\n",
        "  if os.path.isfile(video_show):\n",
        "      print(\"The videofile to be shown does exist.\")\n",
        "      print(\"This player is not able to play large uncompressed videos.\")\n",
        "  else:\n",
        "      print(\"The videofile to be shown does NOT exist.\")\n",
        "\n",
        "  mp4 = open(video_show,'rb').read()\n",
        "  data_url = \"data:video/mp4;base64,\" + b64encode(mp4).decode()\n",
        "  HTML(\"\"\"\n",
        "  <video width=300 controls>\n",
        "        <source src=\"%s\" type=\"video/mp4\">\n",
        "  </video>\n",
        "  \"\"\" % data_url)"
      ]
    },
    {
      "cell_type": "markdown",
      "metadata": {
        "id": "6UkorzEGp5To"
      },
      "source": [
        "### Watch single video"
      ]
    },
    {
      "cell_type": "code",
      "execution_count": 39,
      "metadata": {
        "id": "SDdNCxYkZiVU"
      },
      "outputs": [],
      "source": [
        "video_show = \"/content/gdrive/MyDrive/DanceApp/1P_input_original/h920/1p_ThomasW_girl_16012022_choreo1_h920.mp4\"\n",
        "# video_show = \"/content/gdrive/MyDrive/DanceApp/1P_input_original/1p_ThomasW_girl_16012022_choreo1.mp4\"\n",
        "# play_video_in_colab(video_show=video_show)\n",
        "\n"
      ]
    },
    {
      "cell_type": "markdown",
      "metadata": {
        "id": "iWFCZNTlMU4f"
      },
      "source": [
        "# Main Part"
      ]
    },
    {
      "cell_type": "markdown",
      "metadata": {
        "id": "JK92ZgPETNM-"
      },
      "source": [
        "## Variables = controlling the run"
      ]
    },
    {
      "cell_type": "code",
      "execution_count": 45,
      "metadata": {
        "colab": {
          "base_uri": "https://localhost:8080/",
          "height": 54
        },
        "id": "aySUKeuITaOf",
        "outputId": "268cb29a-5032-42ae-a4d1-b1371f879022"
      },
      "outputs": [
        {
          "data": {
            "application/vnd.google.colaboratory.intrinsic+json": {
              "type": "string"
            },
            "text/plain": [
              "'           \"1p_ThomasW_16012022_choreo1.mp4\",\\n\\n               \"1p_ThomasW_girl_16012022_choreo1.mp4\", \\n      \\n              \"1p_Gustavo_Front.mp4\",\\n              \"1p_Gustavo_Back.mp4\",\\n              \"1p_Gustavo_Right.mp4\",\\n              \"1p_Gustavo_Left.mp4\",        \\n                                          \\n\\n'"
            ]
          },
          "execution_count": 45,
          "metadata": {},
          "output_type": "execute_result"
        }
      ],
      "source": [
        "# Global variables with Paths for all the functions\n",
        "size_of_single_frame = \"640x360\"\n",
        "save_frames_per_second = 5  # the number of jpgs per second TODO: remove?\n",
        "default_fps = 30     # the default frames per second of the videos, \n",
        "                     # which often is wrong.\n",
        "                     # IF we use timecodes it\n",
        "                     # needs to be corrected after the download\n",
        "                     # so that the json and jpg files match each other \n",
        "                     \n",
        "video_size = \"h920\"        # used to file and folder names\n",
        "output_dir = \"output_op_1p\"\n",
        "input_dir = \"1P_input_original\"\n",
        "skeleton_on_black_background = True\n",
        "\n",
        "# The names of the videos to be processed.\n",
        "# these can NOT have spaces in them. Rename with underscore\".\n",
        "\"\"\"\n",
        "\n",
        "video_list = [ \n",
        " '1p_Artur_05122021_chreo1.mp4',\n",
        " '1p_Earl_05122021_choreo1_flipped_lr.mp4',\n",
        " '1p_Eero_1_05122021_choreo1.mp4',\n",
        " '1p_Eero_4_05122021_choreo1.mp4',\n",
        " '1p_Eero_6_05122021_choreo1.mp4',\n",
        " '1p_Eero_7_05122021_choreo1.mp4',\n",
        " '1p_Dirk_choreo1_04.12.2021.mp4',\n",
        " '1p_Heidi_07122021_choreo1_-turns.MOV',\n",
        " '1p_JonathanB_05122021_choreo1.MOV',\n",
        " '1P-Person1-whole.mp4',\n",
        " '1p_Raquelinha_05122021_choreo1.mp4',\n",
        " '1p_sarah_salsa_basics_choreo1.mp4',\n",
        " '1p_Stef_1_05122021_Choreo1.mp4',\n",
        " '1p_Stef_2_05122021_Choreo1.mp4',\n",
        " '1p_Stef_3_05122021_chroeo1.mp4',\n",
        "]\n",
        "\"\"\"\n",
        "\n",
        "#third list of videos\n",
        "\"\"\"video_list = [ \n",
        "              \"1p_abtin_1_choreo1.mp4\",\n",
        "              \"1p_abtin_2_choreo1.mp4\",\n",
        "              \"1p_Vassil_2_11122021_Choreo1.mp4\",\n",
        "]\n",
        "\"\"\"\n",
        "#/content/gdrive/MyDrive/DanceApp/1P_input_original/1p_ThomasW_16012122_choreo1.mp4\n",
        "#fourth list of videos\n",
        "video_list = [\"1p_ThomasW_girl_back.mp4\"\n",
        "              \"1p_ThomasW_girl_front.mp4\"\n",
        "              \"1p_ThomasW_girl_left.mp4\"\n",
        "              \"1p_ThomasW_girl_right.mp4\"]\n",
        "\n",
        "\"\"\"\n",
        "[\"1p_ThomasW_girl_16012022_choreo1.mp4\",\n",
        "               \"1p_Daniele_16012022_choreo1.mp4\",\n",
        "               \"1p_20211216_Francesca_Zeni.mp4\",]\n",
        "\"\"\"              \n",
        "\n",
        "\n",
        "\"\"\"           \"1p_ThomasW_16012022_choreo1.mp4\",\n",
        "\n",
        "               \"1p_ThomasW_girl_16012022_choreo1.mp4\", \n",
        "      \n",
        "              \"1p_Gustavo_Front.mp4\",\n",
        "              \"1p_Gustavo_Back.mp4\",\n",
        "              \"1p_Gustavo_Right.mp4\",\n",
        "              \"1p_Gustavo_Left.mp4\",        \n",
        "                                          \n",
        "\n",
        "\"\"\""
      ]
    },
    {
      "cell_type": "code",
      "execution_count": 41,
      "metadata": {
        "colab": {
          "base_uri": "https://localhost:8080/"
        },
        "id": "iG_BnrcJWgD6",
        "outputId": "67378765-357f-45df-bb0a-db73aa0e9f14"
      },
      "outputs": [
        {
          "name": "stdout",
          "output_type": "stream",
          "text": [
            "Using /content/gdrive/MyDrive/DanceApp/1P_input_original\n",
            "Using /content/gdrive/MyDrive/DanceApp/1P_input_original/h920\n"
          ]
        }
      ],
      "source": [
        "### Variables that are calculated from the ones above.\n",
        "new_height = \"\".join([chr for chr in video_size if chr.isdigit()]) #used to resize          \n",
        "input_video_fullsize_dir = os.path.join(root_path, input_dir) \n",
        "input_video_resized_dir = os.path.join(root_path, input_dir, video_size)\n",
        "check_path(input_video_fullsize_dir)\n",
        "check_path(input_video_resized_dir)\n"
      ]
    },
    {
      "cell_type": "code",
      "execution_count": 42,
      "metadata": {
        "colab": {
          "base_uri": "https://localhost:8080/"
        },
        "id": "YRlNKQ6XIsNq",
        "outputId": "879641d7-d2a1-49cd-8b9e-2b48bda5eb5c"
      },
      "outputs": [
        {
          "name": "stdout",
          "output_type": "stream",
          "text": [
            "Using /content/gdrive/MyDrive/DanceApp\n",
            "Using /content/gdrive/MyDrive/2021-DSR-Porfolio/python_scripts\n"
          ]
        }
      ],
      "source": [
        "check_path(root_path)\n",
        "check_path(script_path)\n"
      ]
    },
    {
      "cell_type": "markdown",
      "metadata": {
        "id": "JJx3bha1XN-4"
      },
      "source": [
        "## Processing the videos"
      ]
    },
    {
      "cell_type": "code",
      "execution_count": 46,
      "metadata": {
        "colab": {
          "base_uri": "https://localhost:8080/"
        },
        "id": "HllnodB2JGAQ",
        "outputId": "3d8cb636-5070-4d8c-af7c-d47d5f499d75"
      },
      "outputs": [
        {
          "name": "stdout",
          "output_type": "stream",
          "text": [
            "\n",
            " ################################ \n",
            "\n",
            "video fullsize:  /content/gdrive/MyDrive/DanceApp/1P_input_original/1p_ThomasW_girl_16012022_choreo1.mp4\n",
            "video_resized:  /content/gdrive/MyDrive/DanceApp/1P_input_original/h920/1p_ThomasW_girl_16012022_choreo1_h920.mp4\n",
            ".mp4\n",
            "Processing video 1p_ThomasW_girl_16012022_choreo1.mp4\n",
            "\n",
            " ################################ \n",
            "\n",
            "#     Resizing the video:     \n",
            "clip_name:  1p_ThomasW_girl_16012022_choreo1.mp4\n",
            "video_name:  1p_ThomasW_girl_16012022_choreo1  extention:  .mp4\n",
            "Found the input video_in\n",
            "new hight will be:  920\n",
            "the output video will be:  /content/gdrive/MyDrive/DanceApp/1P_input_original/h920/1p_ThomasW_girl_16012022_choreo1_h920.mp4\n",
            "Folder for resized video output: 1P_input_original /h 920\n",
            "The video has been resized previously\n",
            "\n",
            " ################################ \n",
            "\n",
            "Deleting old output files from the  output_op_1p 1p_ThomasW_girl_16012022_choreo1  folder\n",
            "Number of files deleted is 1\n",
            "\n",
            " Now the output folder contains only these files:\n",
            "[]\n",
            "\n",
            " ################################ \n",
            "\n",
            "#     Run OpenPose:     \n",
            "OpenPose will now analyse \n",
            " /content/gdrive/MyDrive/DanceApp/1P_input_original/h920/1p_ThomasW_girl_16012022_choreo1_h920.mp4\n",
            "/content\n",
            "['287/12']\n",
            "Number of frames per second:  23.916666666666668\n",
            "\n",
            "\n",
            "Video for Openpose /content/gdrive/MyDrive/DanceApp/1P_input_original/h920/1p_ThomasW_girl_16012022_choreo1_h920.mp4\n",
            "Starting OpenPose demo...\n",
            "Configuring OpenPose...\n",
            "Starting thread(s)...\n",
            "Auto-detecting all available GPUs... Detected 1 GPU(s), using 1 of them starting at GPU 0.\n",
            "OpenPose demo successfully finished. Total time: 84.994309 seconds.\n",
            " \n",
            "============================== \n",
            "Converting the stickfigure video to mp4 \n",
            " \n",
            "ffmpeg version 3.4.8-0ubuntu0.2 Copyright (c) 2000-2020 the FFmpeg developers\n",
            "  built with gcc 7 (Ubuntu 7.5.0-3ubuntu1~18.04)\n",
            "  configuration: --prefix=/usr --extra-version=0ubuntu0.2 --toolchain=hardened --libdir=/usr/lib/x86_64-linux-gnu --incdir=/usr/include/x86_64-linux-gnu --enable-gpl --disable-stripping --enable-avresample --enable-avisynth --enable-gnutls --enable-ladspa --enable-libass --enable-libbluray --enable-libbs2b --enable-libcaca --enable-libcdio --enable-libflite --enable-libfontconfig --enable-libfreetype --enable-libfribidi --enable-libgme --enable-libgsm --enable-libmp3lame --enable-libmysofa --enable-libopenjpeg --enable-libopenmpt --enable-libopus --enable-libpulse --enable-librubberband --enable-librsvg --enable-libshine --enable-libsnappy --enable-libsoxr --enable-libspeex --enable-libssh --enable-libtheora --enable-libtwolame --enable-libvorbis --enable-libvpx --enable-libwavpack --enable-libwebp --enable-libx265 --enable-libxml2 --enable-libxvid --enable-libzmq --enable-libzvbi --enable-omx --enable-openal --enable-opengl --enable-sdl2 --enable-libdc1394 --enable-libdrm --enable-libiec61883 --enable-chromaprint --enable-frei0r --enable-libopencv --enable-libx264 --enable-shared\n",
            "  libavutil      55. 78.100 / 55. 78.100\n",
            "  libavcodec     57.107.100 / 57.107.100\n",
            "  libavformat    57. 83.100 / 57. 83.100\n",
            "  libavdevice    57. 10.100 / 57. 10.100\n",
            "  libavfilter     6.107.100 /  6.107.100\n",
            "  libavresample   3.  7.  0 /  3.  7.  0\n",
            "  libswscale      4.  8.100 /  4.  8.100\n",
            "  libswresample   2.  9.100 /  2.  9.100\n",
            "  libpostproc    54.  7.100 / 54.  7.100\n",
            "Input #0, avi, from '/content/gdrive/MyDrive/DanceApp/output_op_1p/1p_ThomasW_girl_16012022_choreo1/openpose.avi':\n",
            "  Duration: 00:02:13.38, start: 0.000000, bitrate: 4889 kb/s\n",
            "    Stream #0:0: Video: mjpeg (MJPG / 0x47504A4D), yuvj420p(pc, bt470bg/unknown/unknown), 518x920 [SAR 1:1 DAR 259:460], 4885 kb/s, 24 fps, 24 tbr, 24 tbn, 24 tbc\n",
            "Stream mapping:\n",
            "  Stream #0:0 -> #0:0 (mjpeg (native) -> h264 (libx264))\n",
            "Press [q] to stop, [?] for help\n",
            "\u001b[1;36m[libx264 @ 0x55cf30c93e00] \u001b[0musing SAR=1/1\n",
            "\u001b[1;36m[libx264 @ 0x55cf30c93e00] \u001b[0musing cpu capabilities: MMX2 SSE2Fast SSSE3 SSE4.2 AVX FMA3 BMI2 AVX2\n",
            "\u001b[1;36m[libx264 @ 0x55cf30c93e00] \u001b[0mprofile High, level 3.1\n",
            "\u001b[1;36m[libx264 @ 0x55cf30c93e00] \u001b[0m264 - core 152 r2854 e9a5903 - H.264/MPEG-4 AVC codec - Copyleft 2003-2017 - http://www.videolan.org/x264.html - options: cabac=1 ref=3 deblock=1:0:0 analyse=0x3:0x113 me=hex subme=7 psy=1 psy_rd=1.00:0.00 mixed_ref=1 me_range=16 chroma_me=1 trellis=1 8x8dct=1 cqm=0 deadzone=21,11 fast_pskip=1 chroma_qp_offset=-2 threads=6 lookahead_threads=1 sliced_threads=0 nr=0 decimate=1 interlaced=0 bluray_compat=0 constrained_intra=0 bframes=3 b_pyramid=2 b_adapt=1 b_bias=0 direct=1 weightb=1 open_gop=0 weightp=2 keyint=250 keyint_min=24 scenecut=40 intra_refresh=0 rc_lookahead=40 rc=crf mbtree=1 crf=23.0 qcomp=0.60 qpmin=0 qpmax=69 qpstep=4 ip_ratio=1.40 aq=1:1.00\n",
            "Output #0, mp4, to '/content/gdrive/MyDrive/DanceApp/output_op_1p/1p_ThomasW_girl_16012022_choreo1/openpose.mp4':\n",
            "  Metadata:\n",
            "    encoder         : Lavf57.83.100\n",
            "    Stream #0:0: Video: h264 (libx264) (avc1 / 0x31637661), yuvj420p(pc), 518x920 [SAR 1:1 DAR 259:460], q=-1--1, 24 fps, 12288 tbn, 24 tbc\n",
            "    Metadata:\n",
            "      encoder         : Lavc57.107.100 libx264\n",
            "    Side data:\n",
            "      cpb: bitrate max/min/avg: 0/0/0 buffer size: 0 vbv_delay: -1\n",
            "frame= 3201 fps=194 q=-1.0 Lsize=    5728kB time=00:02:13.25 bitrate= 352.1kbits/s speed=8.07x    \n",
            "video:5691kB audio:0kB subtitle:0kB other streams:0kB global headers:0kB muxing overhead: 0.649182%\n",
            "\u001b[1;36m[libx264 @ 0x55cf30c93e00] \u001b[0mframe I:18    Avg QP: 7.56  size:  5542\n",
            "\u001b[1;36m[libx264 @ 0x55cf30c93e00] \u001b[0mframe P:1017  Avg QP:21.47  size:  2692\n",
            "\u001b[1;36m[libx264 @ 0x55cf30c93e00] \u001b[0mframe B:2166  Avg QP:24.22  size:  1380\n",
            "\u001b[1;36m[libx264 @ 0x55cf30c93e00] \u001b[0mconsecutive B-frames:  4.7% 10.2% 14.8% 70.2%\n",
            "\u001b[1;36m[libx264 @ 0x55cf30c93e00] \u001b[0mmb I  I16..4: 91.6%  2.8%  5.6%\n",
            "\u001b[1;36m[libx264 @ 0x55cf30c93e00] \u001b[0mmb P  I16..4:  0.4%  2.1%  1.2%  P16..4:  2.3%  2.1%  1.5%  0.0%  0.0%    skip:90.5%\n",
            "\u001b[1;36m[libx264 @ 0x55cf30c93e00] \u001b[0mmb B  I16..4:  0.2%  0.2%  0.2%  B16..8:  5.5%  2.3%  1.1%  direct: 0.2%  skip:90.4%  L0:52.4% L1:45.3% BI: 2.3%\n",
            "\u001b[1;36m[libx264 @ 0x55cf30c93e00] \u001b[0m8x8 transform intra:38.5% inter:8.5%\n",
            "\u001b[1;36m[libx264 @ 0x55cf30c93e00] \u001b[0mcoded y,uvDC,uvAC intra: 15.8% 31.2% 29.7% inter: 1.2% 2.7% 2.4%\n",
            "\u001b[1;36m[libx264 @ 0x55cf30c93e00] \u001b[0mi16 v,h,dc,p: 93%  5%  2%  0%\n",
            "\u001b[1;36m[libx264 @ 0x55cf30c93e00] \u001b[0mi8 v,h,dc,ddl,ddr,vr,hd,vl,hu: 15%  7% 76%  1%  1%  1%  0%  0%  0%\n",
            "\u001b[1;36m[libx264 @ 0x55cf30c93e00] \u001b[0mi4 v,h,dc,ddl,ddr,vr,hd,vl,hu: 31% 13% 31%  5%  3%  6%  3%  5%  3%\n",
            "\u001b[1;36m[libx264 @ 0x55cf30c93e00] \u001b[0mi8c dc,h,v,p: 64% 10% 25%  1%\n",
            "\u001b[1;36m[libx264 @ 0x55cf30c93e00] \u001b[0mWeighted P-Frames: Y:0.4% UV:0.3%\n",
            "\u001b[1;36m[libx264 @ 0x55cf30c93e00] \u001b[0mref P L0: 49.9% 17.4% 19.9% 12.7%  0.0%\n",
            "\u001b[1;36m[libx264 @ 0x55cf30c93e00] \u001b[0mref B L0: 80.3% 15.8%  3.9%\n",
            "\u001b[1;36m[libx264 @ 0x55cf30c93e00] \u001b[0mref B L1: 95.0%  5.0%\n",
            "\u001b[1;36m[libx264 @ 0x55cf30c93e00] \u001b[0mkb/s:349.49\n",
            " \n",
            "============================== \n",
            "\n",
            " ################################ \n",
            "\n",
            "#     Rename JSON files:     \n",
            "/content\n",
            "there are  3201  json files to rename\n",
            " \n",
            "All json are now renamed.\n",
            "============================== \n",
            " \n",
            "video fullsize:  /content/gdrive/MyDrive/DanceApp/1P_input_original/1p_Daniele_16012022_choreo1.mp4\n",
            "video_resized:  /content/gdrive/MyDrive/DanceApp/1P_input_original/h920/1p_Daniele_16012022_choreo1_h920.mp4\n",
            ".mp4\n",
            "Processing video 1p_Daniele_16012022_choreo1.mp4\n",
            "\n",
            " ################################ \n",
            "\n",
            "#     Resizing the video:     \n",
            "clip_name:  1p_Daniele_16012022_choreo1.mp4\n",
            "video_name:  1p_Daniele_16012022_choreo1  extention:  .mp4\n",
            "Found the input video_in\n",
            "new hight will be:  920\n",
            "the output video will be:  /content/gdrive/MyDrive/DanceApp/1P_input_original/h920/1p_Daniele_16012022_choreo1_h920.mp4\n",
            "Folder for resized video output: 1P_input_original /h 920\n",
            "The video has been resized previously\n",
            "\n",
            " ################################ \n",
            "\n",
            "Deleting old output files from the  output_op_1p 1p_Daniele_16012022_choreo1  folder\n",
            "Number of files deleted is 1\n",
            "\n",
            " Now the output folder contains only these files:\n",
            "[]\n",
            "\n",
            " ################################ \n",
            "\n",
            "#     Run OpenPose:     \n",
            "OpenPose will now analyse \n",
            " /content/gdrive/MyDrive/DanceApp/1P_input_original/h920/1p_Daniele_16012022_choreo1_h920.mp4\n",
            "/content\n",
            "['60000/1001']\n",
            "Number of frames per second:  59.94005994005994\n",
            "\n",
            "\n",
            "Video for Openpose /content/gdrive/MyDrive/DanceApp/1P_input_original/h920/1p_Daniele_16012022_choreo1_h920.mp4\n",
            "Starting OpenPose demo...\n",
            "Configuring OpenPose...\n",
            "Starting thread(s)...\n",
            "Auto-detecting all available GPUs... Detected 1 GPU(s), using 1 of them starting at GPU 0.\n",
            "OpenPose demo successfully finished. Total time: 459.127590 seconds.\n",
            " \n",
            "============================== \n",
            "Converting the stickfigure video to mp4 \n",
            " \n",
            "ffmpeg version 3.4.8-0ubuntu0.2 Copyright (c) 2000-2020 the FFmpeg developers\n",
            "  built with gcc 7 (Ubuntu 7.5.0-3ubuntu1~18.04)\n",
            "  configuration: --prefix=/usr --extra-version=0ubuntu0.2 --toolchain=hardened --libdir=/usr/lib/x86_64-linux-gnu --incdir=/usr/include/x86_64-linux-gnu --enable-gpl --disable-stripping --enable-avresample --enable-avisynth --enable-gnutls --enable-ladspa --enable-libass --enable-libbluray --enable-libbs2b --enable-libcaca --enable-libcdio --enable-libflite --enable-libfontconfig --enable-libfreetype --enable-libfribidi --enable-libgme --enable-libgsm --enable-libmp3lame --enable-libmysofa --enable-libopenjpeg --enable-libopenmpt --enable-libopus --enable-libpulse --enable-librubberband --enable-librsvg --enable-libshine --enable-libsnappy --enable-libsoxr --enable-libspeex --enable-libssh --enable-libtheora --enable-libtwolame --enable-libvorbis --enable-libvpx --enable-libwavpack --enable-libwebp --enable-libx265 --enable-libxml2 --enable-libxvid --enable-libzmq --enable-libzvbi --enable-omx --enable-openal --enable-opengl --enable-sdl2 --enable-libdc1394 --enable-libdrm --enable-libiec61883 --enable-chromaprint --enable-frei0r --enable-libopencv --enable-libx264 --enable-shared\n",
            "  libavutil      55. 78.100 / 55. 78.100\n",
            "  libavcodec     57.107.100 / 57.107.100\n",
            "  libavformat    57. 83.100 / 57. 83.100\n",
            "  libavdevice    57. 10.100 / 57. 10.100\n",
            "  libavfilter     6.107.100 /  6.107.100\n",
            "  libavresample   3.  7.  0 /  3.  7.  0\n",
            "  libswscale      4.  8.100 /  4.  8.100\n",
            "  libswresample   2.  9.100 /  2.  9.100\n",
            "  libpostproc    54.  7.100 / 54.  7.100\n",
            "Input #0, avi, from '/content/gdrive/MyDrive/DanceApp/output_op_1p/1p_Daniele_16012022_choreo1/openpose.avi':\n",
            "  Duration: 00:02:24.87, start: 0.000000, bitrate: 21323 kb/s\n",
            "    Stream #0:0: Video: mjpeg (MJPG / 0x47504A4D), yuvj420p(pc, bt470bg/unknown/unknown), 1636x920 [SAR 1:1 DAR 409:230], 21314 kb/s, 60 fps, 60 tbr, 60 tbn, 60 tbc\n",
            "Stream mapping:\n",
            "  Stream #0:0 -> #0:0 (mjpeg (native) -> h264 (libx264))\n",
            "Press [q] to stop, [?] for help\n",
            "\u001b[1;36m[libx264 @ 0x55e29453de00] \u001b[0musing SAR=1/1\n",
            "\u001b[1;36m[libx264 @ 0x55e29453de00] \u001b[0musing cpu capabilities: MMX2 SSE2Fast SSSE3 SSE4.2 AVX FMA3 BMI2 AVX2\n",
            "\u001b[1;36m[libx264 @ 0x55e29453de00] \u001b[0mprofile High, level 4.2\n",
            "\u001b[1;36m[libx264 @ 0x55e29453de00] \u001b[0m264 - core 152 r2854 e9a5903 - H.264/MPEG-4 AVC codec - Copyleft 2003-2017 - http://www.videolan.org/x264.html - options: cabac=1 ref=3 deblock=1:0:0 analyse=0x3:0x113 me=hex subme=7 psy=1 psy_rd=1.00:0.00 mixed_ref=1 me_range=16 chroma_me=1 trellis=1 8x8dct=1 cqm=0 deadzone=21,11 fast_pskip=1 chroma_qp_offset=-2 threads=6 lookahead_threads=1 sliced_threads=0 nr=0 decimate=1 interlaced=0 bluray_compat=0 constrained_intra=0 bframes=3 b_pyramid=2 b_adapt=1 b_bias=0 direct=1 weightb=1 open_gop=0 weightp=2 keyint=250 keyint_min=25 scenecut=40 intra_refresh=0 rc_lookahead=40 rc=crf mbtree=1 crf=23.0 qcomp=0.60 qpmin=0 qpmax=69 qpstep=4 ip_ratio=1.40 aq=1:1.00\n",
            "Output #0, mp4, to '/content/gdrive/MyDrive/DanceApp/output_op_1p/1p_Daniele_16012022_choreo1/openpose.mp4':\n",
            "  Metadata:\n",
            "    encoder         : Lavf57.83.100\n",
            "    Stream #0:0: Video: h264 (libx264) (avc1 / 0x31637661), yuvj420p(pc), 1636x920 [SAR 1:1 DAR 409:230], q=-1--1, 60 fps, 15360 tbn, 60 tbc\n",
            "    Metadata:\n",
            "      encoder         : Lavc57.107.100 libx264\n",
            "    Side data:\n",
            "      cpb: bitrate max/min/avg: 0/0/0 buffer size: 0 vbv_delay: -1\n",
            "frame= 8692 fps=109 q=-1.0 Lsize=    8207kB time=00:02:24.81 bitrate= 464.3kbits/s speed=1.82x    \n",
            "video:8104kB audio:0kB subtitle:0kB other streams:0kB global headers:0kB muxing overhead: 1.265887%\n",
            "\u001b[1;36m[libx264 @ 0x55e29453de00] \u001b[0mframe I:35    Avg QP: 9.39  size:  6365\n",
            "\u001b[1;36m[libx264 @ 0x55e29453de00] \u001b[0mframe P:2197  Avg QP:23.88  size:  1860\n",
            "\u001b[1;36m[libx264 @ 0x55e29453de00] \u001b[0mframe B:6460  Avg QP:27.43  size:   618\n",
            "\u001b[1;36m[libx264 @ 0x55e29453de00] \u001b[0mconsecutive B-frames:  0.7%  0.4%  0.9% 98.0%\n",
            "\u001b[1;36m[libx264 @ 0x55e29453de00] \u001b[0mmb I  I16..4: 89.0%  8.7%  2.3%\n",
            "\u001b[1;36m[libx264 @ 0x55e29453de00] \u001b[0mmb P  I16..4:  0.1%  0.3%  0.1%  P16..4:  1.1%  0.9%  0.5%  0.0%  0.0%    skip:96.9%\n",
            "\u001b[1;36m[libx264 @ 0x55e29453de00] \u001b[0mmb B  I16..4:  0.0%  0.0%  0.0%  B16..8:  1.8%  0.6%  0.2%  direct: 0.1%  skip:97.2%  L0:50.6% L1:47.8% BI: 1.6%\n",
            "\u001b[1;36m[libx264 @ 0x55e29453de00] \u001b[0m8x8 transform intra:23.7% inter:13.0%\n",
            "\u001b[1;36m[libx264 @ 0x55e29453de00] \u001b[0mcoded y,uvDC,uvAC intra: 4.3% 10.7% 9.3% inter: 0.2% 0.5% 0.4%\n",
            "\u001b[1;36m[libx264 @ 0x55e29453de00] \u001b[0mi16 v,h,dc,p: 96%  2%  2%  0%\n",
            "\u001b[1;36m[libx264 @ 0x55e29453de00] \u001b[0mi8 v,h,dc,ddl,ddr,vr,hd,vl,hu: 18%  5% 76%  0%  0%  0%  0%  0%  0%\n",
            "\u001b[1;36m[libx264 @ 0x55e29453de00] \u001b[0mi4 v,h,dc,ddl,ddr,vr,hd,vl,hu: 40% 11% 29%  4%  2%  5%  3%  5%  2%\n",
            "\u001b[1;36m[libx264 @ 0x55e29453de00] \u001b[0mi8c dc,h,v,p: 80%  5% 14%  1%\n",
            "\u001b[1;36m[libx264 @ 0x55e29453de00] \u001b[0mWeighted P-Frames: Y:0.5% UV:0.2%\n",
            "\u001b[1;36m[libx264 @ 0x55e29453de00] \u001b[0mref P L0: 55.1% 12.7% 19.0% 13.1%  0.1%\n",
            "\u001b[1;36m[libx264 @ 0x55e29453de00] \u001b[0mref B L0: 79.4% 16.3%  4.3%\n",
            "\u001b[1;36m[libx264 @ 0x55e29453de00] \u001b[0mref B L1: 91.8%  8.2%\n",
            "\u001b[1;36m[libx264 @ 0x55e29453de00] \u001b[0mkb/s:458.25\n",
            " \n",
            "============================== \n",
            "\n",
            " ################################ \n",
            "\n",
            "#     Rename JSON files:     \n",
            "/content\n",
            "there are  8692  json files to rename\n",
            " \n",
            "All json are now renamed.\n",
            "============================== \n",
            " \n",
            "video fullsize:  /content/gdrive/MyDrive/DanceApp/1P_input_original/1p_20211216_Francesca_Zeni.mp4\n",
            "video_resized:  /content/gdrive/MyDrive/DanceApp/1P_input_original/h920/1p_20211216_Francesca_Zeni_h920.mp4\n",
            ".mp4\n",
            "Processing video 1p_20211216_Francesca_Zeni.mp4\n",
            "\n",
            " ################################ \n",
            "\n",
            "#     Resizing the video:     \n",
            "clip_name:  1p_20211216_Francesca_Zeni.mp4\n",
            "video_name:  1p_20211216_Francesca_Zeni  extention:  .mp4\n",
            "Found the input video_in\n",
            "new hight will be:  920\n",
            "the output video will be:  /content/gdrive/MyDrive/DanceApp/1P_input_original/h920/1p_20211216_Francesca_Zeni_h920.mp4\n",
            "Folder for resized video output: 1P_input_original /h 920\n",
            "The video has been resized previously\n",
            "\n",
            " ################################ \n",
            "\n",
            "Deleting old output files from the  output_op_1p 1p_20211216_Francesca_Zeni  folder\n",
            "Number of files deleted is 1\n",
            "\n",
            " Now the output folder contains only these files:\n",
            "[]\n",
            "\n",
            " ################################ \n",
            "\n",
            "#     Run OpenPose:     \n",
            "OpenPose will now analyse \n",
            " /content/gdrive/MyDrive/DanceApp/1P_input_original/h920/1p_20211216_Francesca_Zeni_h920.mp4\n",
            "/content\n",
            "['30/1']\n",
            "Number of frames per second:  30.0\n",
            "\n",
            "\n",
            "Video for Openpose /content/gdrive/MyDrive/DanceApp/1P_input_original/h920/1p_20211216_Francesca_Zeni_h920.mp4\n",
            "Starting OpenPose demo...\n",
            "Configuring OpenPose...\n",
            "Starting thread(s)...\n",
            "Auto-detecting all available GPUs... Detected 1 GPU(s), using 1 of them starting at GPU 0.\n",
            "OpenPose demo successfully finished. Total time: 112.069303 seconds.\n",
            " \n",
            "============================== \n",
            "Converting the stickfigure video to mp4 \n",
            " \n",
            "ffmpeg version 3.4.8-0ubuntu0.2 Copyright (c) 2000-2020 the FFmpeg developers\n",
            "  built with gcc 7 (Ubuntu 7.5.0-3ubuntu1~18.04)\n",
            "  configuration: --prefix=/usr --extra-version=0ubuntu0.2 --toolchain=hardened --libdir=/usr/lib/x86_64-linux-gnu --incdir=/usr/include/x86_64-linux-gnu --enable-gpl --disable-stripping --enable-avresample --enable-avisynth --enable-gnutls --enable-ladspa --enable-libass --enable-libbluray --enable-libbs2b --enable-libcaca --enable-libcdio --enable-libflite --enable-libfontconfig --enable-libfreetype --enable-libfribidi --enable-libgme --enable-libgsm --enable-libmp3lame --enable-libmysofa --enable-libopenjpeg --enable-libopenmpt --enable-libopus --enable-libpulse --enable-librubberband --enable-librsvg --enable-libshine --enable-libsnappy --enable-libsoxr --enable-libspeex --enable-libssh --enable-libtheora --enable-libtwolame --enable-libvorbis --enable-libvpx --enable-libwavpack --enable-libwebp --enable-libx265 --enable-libxml2 --enable-libxvid --enable-libzmq --enable-libzvbi --enable-omx --enable-openal --enable-opengl --enable-sdl2 --enable-libdc1394 --enable-libdrm --enable-libiec61883 --enable-chromaprint --enable-frei0r --enable-libopencv --enable-libx264 --enable-shared\n",
            "  libavutil      55. 78.100 / 55. 78.100\n",
            "  libavcodec     57.107.100 / 57.107.100\n",
            "  libavformat    57. 83.100 / 57. 83.100\n",
            "  libavdevice    57. 10.100 / 57. 10.100\n",
            "  libavfilter     6.107.100 /  6.107.100\n",
            "  libavresample   3.  7.  0 /  3.  7.  0\n",
            "  libswscale      4.  8.100 /  4.  8.100\n",
            "  libswresample   2.  9.100 /  2.  9.100\n",
            "  libpostproc    54.  7.100 / 54.  7.100\n",
            "Input #0, avi, from '/content/gdrive/MyDrive/DanceApp/output_op_1p/1p_20211216_Francesca_Zeni/openpose.avi':\n",
            "  Duration: 00:02:22.30, start: 0.000000, bitrate: 5498 kb/s\n",
            "    Stream #0:0: Video: mjpeg (MJPG / 0x47504A4D), yuvj420p(pc, bt470bg/unknown/unknown), 518x920 [SAR 1:1 DAR 259:460], 5493 kb/s, 30 fps, 30 tbr, 30 tbn, 30 tbc\n",
            "Stream mapping:\n",
            "  Stream #0:0 -> #0:0 (mjpeg (native) -> h264 (libx264))\n",
            "Press [q] to stop, [?] for help\n",
            "\u001b[1;36m[libx264 @ 0x559acb46de00] \u001b[0musing SAR=1/1\n",
            "\u001b[1;36m[libx264 @ 0x559acb46de00] \u001b[0musing cpu capabilities: MMX2 SSE2Fast SSSE3 SSE4.2 AVX FMA3 BMI2 AVX2\n",
            "\u001b[1;36m[libx264 @ 0x559acb46de00] \u001b[0mprofile High, level 3.1\n",
            "\u001b[1;36m[libx264 @ 0x559acb46de00] \u001b[0m264 - core 152 r2854 e9a5903 - H.264/MPEG-4 AVC codec - Copyleft 2003-2017 - http://www.videolan.org/x264.html - options: cabac=1 ref=3 deblock=1:0:0 analyse=0x3:0x113 me=hex subme=7 psy=1 psy_rd=1.00:0.00 mixed_ref=1 me_range=16 chroma_me=1 trellis=1 8x8dct=1 cqm=0 deadzone=21,11 fast_pskip=1 chroma_qp_offset=-2 threads=6 lookahead_threads=1 sliced_threads=0 nr=0 decimate=1 interlaced=0 bluray_compat=0 constrained_intra=0 bframes=3 b_pyramid=2 b_adapt=1 b_bias=0 direct=1 weightb=1 open_gop=0 weightp=2 keyint=250 keyint_min=25 scenecut=40 intra_refresh=0 rc_lookahead=40 rc=crf mbtree=1 crf=23.0 qcomp=0.60 qpmin=0 qpmax=69 qpstep=4 ip_ratio=1.40 aq=1:1.00\n",
            "Output #0, mp4, to '/content/gdrive/MyDrive/DanceApp/output_op_1p/1p_20211216_Francesca_Zeni/openpose.mp4':\n",
            "  Metadata:\n",
            "    encoder         : Lavf57.83.100\n",
            "    Stream #0:0: Video: h264 (libx264) (avc1 / 0x31637661), yuvj420p(pc), 518x920 [SAR 1:1 DAR 259:460], q=-1--1, 30 fps, 15360 tbn, 30 tbc\n",
            "    Metadata:\n",
            "      encoder         : Lavc57.107.100 libx264\n",
            "    Side data:\n",
            "      cpb: bitrate max/min/avg: 0/0/0 buffer size: 0 vbv_delay: -1\n",
            "frame= 4269 fps=243 q=-1.0 Lsize=    5275kB time=00:02:22.20 bitrate= 303.9kbits/s speed=8.08x    \n",
            "video:5225kB audio:0kB subtitle:0kB other streams:0kB global headers:0kB muxing overhead: 0.958393%\n",
            "\u001b[1;36m[libx264 @ 0x559acb46de00] \u001b[0mframe I:19    Avg QP: 7.49  size:  4805\n",
            "\u001b[1;36m[libx264 @ 0x559acb46de00] \u001b[0mframe P:1173  Avg QP:22.06  size:  2110\n",
            "\u001b[1;36m[libx264 @ 0x559acb46de00] \u001b[0mframe B:3077  Avg QP:25.95  size:   904\n",
            "\u001b[1;36m[libx264 @ 0x559acb46de00] \u001b[0mconsecutive B-frames:  1.7%  4.1%  7.3% 86.9%\n",
            "\u001b[1;36m[libx264 @ 0x559acb46de00] \u001b[0mmb I  I16..4: 92.3%  3.1%  4.6%\n",
            "\u001b[1;36m[libx264 @ 0x559acb46de00] \u001b[0mmb P  I16..4:  0.3%  1.2%  0.6%  P16..4:  2.2%  1.7%  1.3%  0.0%  0.0%    skip:92.8%\n",
            "\u001b[1;36m[libx264 @ 0x559acb46de00] \u001b[0mmb B  I16..4:  0.1%  0.1%  0.1%  B16..8:  4.0%  1.6%  0.8%  direct: 0.1%  skip:93.1%  L0:51.5% L1:45.9% BI: 2.6%\n",
            "\u001b[1;36m[libx264 @ 0x559acb46de00] \u001b[0m8x8 transform intra:35.4% inter:9.2%\n",
            "\u001b[1;36m[libx264 @ 0x559acb46de00] \u001b[0mcoded y,uvDC,uvAC intra: 13.0% 25.2% 23.4% inter: 0.9% 1.9% 1.6%\n",
            "\u001b[1;36m[libx264 @ 0x559acb46de00] \u001b[0mi16 v,h,dc,p: 93%  5%  2%  0%\n",
            "\u001b[1;36m[libx264 @ 0x559acb46de00] \u001b[0mi8 v,h,dc,ddl,ddr,vr,hd,vl,hu: 13%  7% 77%  1%  0%  1%  0%  0%  0%\n",
            "\u001b[1;36m[libx264 @ 0x559acb46de00] \u001b[0mi4 v,h,dc,ddl,ddr,vr,hd,vl,hu: 29% 13% 31%  5%  3%  6%  4%  6%  3%\n",
            "\u001b[1;36m[libx264 @ 0x559acb46de00] \u001b[0mi8c dc,h,v,p: 66% 11% 22%  1%\n",
            "\u001b[1;36m[libx264 @ 0x559acb46de00] \u001b[0mWeighted P-Frames: Y:0.7% UV:0.5%\n",
            "\u001b[1;36m[libx264 @ 0x559acb46de00] \u001b[0mref P L0: 52.0% 16.9% 18.2% 12.8%  0.1%\n",
            "\u001b[1;36m[libx264 @ 0x559acb46de00] \u001b[0mref B L0: 79.7% 16.3%  4.0%\n",
            "\u001b[1;36m[libx264 @ 0x559acb46de00] \u001b[0mref B L1: 93.6%  6.4%\n",
            "\u001b[1;36m[libx264 @ 0x559acb46de00] \u001b[0mkb/s:300.73\n",
            " \n",
            "============================== \n",
            "\n",
            " ################################ \n",
            "\n",
            "#     Rename JSON files:     \n",
            "/content\n",
            "there are  4269  json files to rename\n",
            " \n",
            "All json are now renamed.\n",
            "============================== \n",
            " \n"
          ]
        }
      ],
      "source": [
        "\n",
        "print(\"\\n ################################ \\n\")\n",
        "\n",
        "for i in range(len(video_list)):\n",
        "  clip_name = video_list[i]\n",
        "  video_id = splitext(video_list[i])[0]\n",
        "  video_in = os.path.join(input_video_fullsize_dir, clip_name)\n",
        "  video_name, video_ext = splitext(video_in)\n",
        "  video_resized = input_video_resized_dir + \"/\" + video_id + '_' + video_size + video_ext \n",
        "  print(\"video fullsize: \", video_in)\n",
        "  print(\"video_resized: \", video_resized)\n",
        "  print(video_ext)\n",
        "\n",
        "  # Video Processing and OpenPose  \n",
        "  #from pathlib import Path as P\n",
        "  output_main = os.path.join(root_path, output_dir)\n",
        "  if not os.path.isdir(output_main): \n",
        "    os.makedirs(output_main, exist_ok=True)\n",
        "  \n",
        "  output_op_dir = os.path.join(output_main, video_id)\n",
        "  if not os.path.isdir(output_op_dir): \n",
        "    os.makedirs(output_op_dir, exist_ok=True) \n",
        "  \n",
        "  print(\"Processing video\", clip_name)\n",
        "  \n",
        "  video_resized = resize_video(new_height = new_height, \n",
        "                               video_in=video_in, \n",
        "                               clip_name=clip_name, \n",
        "                               src_folder=input_dir)\n",
        "  \n",
        "  delete_outputs(video_id=video_id, root_path=root_path, output_dir=output_dir)\n",
        "  load_video_run_openpose(video=video_resized)\n",
        "  rename_json(video_id, root_path=root_path, output_dir=output_dir)\n",
        "\n",
        "  # Creating the annotation file\n",
        "  # TODO: make os independent. use shutil.copy(src, dst) and os.path() \n",
        "  #!cp $script_path/AnnotationFile.py .\n",
        "  #!python AnnotationFile.py $output_op_dir\n",
        "  \n",
        "  # Parsing JSON and adding information from annotation\n",
        "  # Anot_file = output_op_dir + \"/Annotation.json\" \n",
        "  #!cp $script_path/Parsing-Openpose-Annotation.py .\n",
        "  #!python Parsing-Openpose-Annotation.py $video_id $output_op_dir $Anot_file\n",
        "\n",
        "\n",
        "\n"
      ]
    }
  ],
  "metadata": {
    "accelerator": "GPU",
    "colab": {
      "collapsed_sections": [],
      "include_colab_link": true,
      "machine_shape": "hm",
      "name": "Copy of Running_OpenPose_Pipeline.ipynb",
      "provenance": []
    },
    "kernelspec": {
      "display_name": "Python 3",
      "name": "python3"
    },
    "language_info": {
      "name": "python"
    }
  },
  "nbformat": 4,
  "nbformat_minor": 0
}
