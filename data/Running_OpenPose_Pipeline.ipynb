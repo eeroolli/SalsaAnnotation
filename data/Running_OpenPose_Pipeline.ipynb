{
  "cells": [
    {
      "cell_type": "markdown",
      "metadata": {
        "id": "view-in-github",
        "colab_type": "text"
      },
      "source": [
        "<a href=\"https://colab.research.google.com/github/eeroolli/SalsaAnnotation/blob/development/data/Running_OpenPose_Pipeline.ipynb\" target=\"_parent\"><img src=\"https://colab.research.google.com/assets/colab-badge.svg\" alt=\"Open In Colab\"/></a>"
      ]
    },
    {
      "cell_type": "markdown",
      "metadata": {
        "id": "L8kn_DzBjXI1"
      },
      "source": [
        "## Running preprocessing with OpenPose\n",
        "\n",
        "This works in Colab and contains most of the functions needed.\n",
        "\n",
        "Single file to run\n",
        "\n",
        "*   VideoProcessing.ipynb\n",
        "*   AnnotationFile.ipynb\n",
        "*  Parsing-Openpose-Annotation.ipynb   \n"
      ]
    },
    {
      "cell_type": "code",
      "execution_count": null,
      "metadata": {
        "id": "p7Ol70fgIpDp"
      },
      "outputs": [],
      "source": [
        "\n",
        "# libraries needed from outside\n",
        "import os\n",
        "from os import mkdir\n",
        "from os.path import exists, join, basename, splitext\n",
        "import sys\n",
        "import glob                       # help for finding files\n",
        "from re import split              # regular expression string splitter\n",
        "import subprocess                 #subprocess wraps around regular os commands\n",
        "import shutil                     # used for copying files in the os.\n",
        "\n",
        "from google.colab import drive\n",
        "drive.mount('/content/gdrive')\n",
        " \n",
        "if os.path.isdir('/content/gdrive/MyDrive'):     # Ana\n",
        "  google_drive_path = '/content/gdrive/MyDrive'\n",
        "if os.path.isdir('/content/gdrive/MyDrive/DSR'):  # Eero. ipython can deal with MyDrive, \n",
        "  # but some bash commands require the space in \"My Drive\" to work.  and some fail.\n",
        "  # I believe this has to do with what kind of \" \" '' one is using, as they must not be mixed. \n",
        "  google_drive_path = '/content/gdrive/MyDrive' \n",
        "else:\n",
        "  print(\"There is a problem google_drive_path.\")\n",
        "\n",
        "root_path   = os.path.join(google_drive_path ,  \"DanceApp\")  \n",
        "script_path = \"/content/gdrive/MyDrive/2021-DSR-Porfolio/python_scripts\"\n",
        "#one cannot add items to sys.path that have a space in them. so script path must\n",
        "#the same for Ana and Eero.  Eero has now added a link from his DSR to Ana's 2021-DSR-Porfolio/\n",
        "#script_path = os.path.join(google_drive_path , \"2021-DSR-Porfolio/python_scripts\")\n",
        "print(\"Using \", root_path, \" as root_path\")\n",
        "# here = os.getcwd()\n",
        "# print(here)\n",
        "# print(sys.path)\n",
        "# sys.path = ['', '/content', '/env/python', '/usr/lib/python37.zip', '/usr/lib/python3.7', '/usr/lib/python3.7/lib-dynload', '/usr/local/lib/python3.7/dist-packages', '/usr/lib/python3/dist-packages', '/usr/local/lib/python3.7/dist-packages/IPython/extensions', '/root/.ipython']\n",
        "\n"
      ]
    },
    {
      "cell_type": "code",
      "source": [
        ""
      ],
      "metadata": {
        "id": "nrwbuY91Pb_2"
      },
      "execution_count": null,
      "outputs": []
    },
    {
      "cell_type": "markdown",
      "metadata": {
        "id": "0DmgqBeLMKY_"
      },
      "source": [
        "## Build OpenPose"
      ]
    },
    {
      "cell_type": "code",
      "execution_count": null,
      "metadata": {
        "id": "pnZZ9uRJI5C1"
      },
      "outputs": [],
      "source": [
        "\n",
        "# Path and variables to build OpenPose\n",
        "git_repo_url = 'https://github.com/CMU-Perceptual-Computing-Lab/openpose.git'\n",
        "project_name = splitext(basename(git_repo_url))[0]\n",
        "if not exists(project_name):    ## This saves Lots of time when rerunning the whole notebook.\n",
        "  # see: https://github.com/CMU-Perceptual-Computing-Lab/openpose/issues/949\n",
        "  # install new CMake becaue of CUDA10\n",
        "  !wget -q https://cmake.org/files/v3.13/cmake-3.13.0-Linux-x86_64.tar.gz\n",
        "  !tar xfz cmake-3.13.0-Linux-x86_64.tar.gz --strip-components=1 -C /usr/local\n",
        "  # clone openpose\n",
        "  !git clone -q --depth 1 $git_repo_url\n",
        "  !sed -i 's/execute_process(COMMAND git checkout master WORKING_DIRECTORY ${CMAKE_SOURCE_DIR}\\/3rdparty\\/caffe)/execute_process(COMMAND git checkout f019d0dfe86f49d1140961f8c7dec22130c83154 WORKING_DIRECTORY ${CMAKE_SOURCE_DIR}\\/3rdparty\\/caffe)/g' openpose/CMakeLists.txt\n",
        "  # install system dependencies\n",
        "  !apt-get -qq install -y libatlas-base-dev libprotobuf-dev libleveldb-dev libsnappy-dev libhdf5-serial-dev protobuf-compiler libgflags-dev libgoogle-glog-dev liblmdb-dev opencl-headers ocl-icd-opencl-dev libviennacl-dev\n",
        "  # install python dependencies\n",
        "  !pip install -q youtube-dl\n",
        "  # build openpose\n",
        "  !cd openpose && rm -rf build || true && mkdir build && cd build && cmake .. && make -j`nproc`\n",
        "# !ffprobe -v 0 -of csv=p=0 -select_streams v:0 -show_entries stream=r_frame_rate $video \n",
        "# Function to run OpenPose TODO, add this function to python script\n",
        "\n",
        "\n",
        "\n"
      ]
    },
    {
      "cell_type": "markdown",
      "metadata": {
        "id": "7AK6woolMNqt"
      },
      "source": [
        "## Define Functions"
      ]
    },
    {
      "cell_type": "markdown",
      "source": [
        "### check_path() &  stop_if_no_path()"
      ],
      "metadata": {
        "id": "ISCzpu55Q2Gt"
      }
    },
    {
      "cell_type": "code",
      "source": [
        "# TODO: move this to /utils ?\n",
        "\n",
        "def check_path(x):\n",
        "  if os.path.isdir(x):\n",
        "    print(\"Using\", x )\n",
        "  else:\n",
        "    print(\"Problem: There was no \", x)  # No error keeps running\n",
        "\n",
        "def stop_if_no_path(x):\n",
        "  if os.path.isdir(x):\n",
        "    print(\"Using\", x )\n",
        "  else:\n",
        "    raise Exception(\"Problem: There was no \", x)  # Throws an error and stops"
      ],
      "metadata": {
        "id": "f5xgzD4YPYsF"
      },
      "execution_count": null,
      "outputs": []
    },
    {
      "cell_type": "markdown",
      "metadata": {
        "id": "o2kjIH-dpCTm"
      },
      "source": [
        "\n"
      ]
    },
    {
      "cell_type": "code",
      "source": [
        ""
      ],
      "metadata": {
        "id": "vQpcaq3p_o6k"
      },
      "execution_count": null,
      "outputs": []
    },
    {
      "cell_type": "markdown",
      "source": [
        "### resize_video()"
      ],
      "metadata": {
        "id": "UNP7tFQSQ9mW"
      }
    },
    {
      "cell_type": "code",
      "execution_count": null,
      "metadata": {
        "id": "j2a2dTWGVO4m"
      },
      "outputs": [],
      "source": [
        "def resize_video(new_height, video_in, clip_name, src_folder):\n",
        "    video_name, video_ext = splitext(clip_name)\n",
        "    print(\"\\n ################################ \\n\")\n",
        "    print(\"#     Resizing the video:     \")\n",
        "    print(\"clip_name: \", clip_name)\n",
        "    print(\"video_name: \", video_name, \" extention: \", video_ext)\n",
        "    \n",
        "    if os.path.isfile(video_in):\n",
        "      print(\"Found the input video_in\")\n",
        "    else:\n",
        "      print(\"The input video does not exist.\")\n",
        "      # raise Exception(\"No input video file\")\n",
        "\n",
        "    print(\"new hight will be: \", new_height)\n",
        "    resize_output_dir = os.path.join(root_path, src_folder ,\"h\" + str(new_height))\n",
        "    video_out = resize_output_dir + \"/\" + video_name + \"_h\" + str(new_height) + video_ext\n",
        "    print(\"the output video will be: \", video_out)\n",
        "\n",
        "    if not os.path.isdir(resize_output_dir):\n",
        "      os.mkdir(resize_output_dir)\n",
        "      print(\"Created a folder for resized video output:\", src_folder, \"/h\",str(new_height) )\n",
        "    else:\n",
        "      print(\"Folder for resized video output:\", src_folder, \"/h\",str(new_height) )\n",
        "    \n",
        "    if os.path.isfile(video_out):\n",
        "      print(\"The video has been resized previously\")\n",
        "    else:\n",
        "      print(\"The video is being resized, which takes often several minutes.\")\n",
        "      !ffmpeg -i $video_in -vf scale=-2:$new_height $video_out    # the -2 ensures that width is a even number as required\n",
        "    return video_out"
      ]
    },
    {
      "cell_type": "markdown",
      "source": [
        "### load_video_run_openpose()"
      ],
      "metadata": {
        "id": "mFGbUCmDRGb-"
      }
    },
    {
      "cell_type": "code",
      "execution_count": null,
      "metadata": {
        "id": "G8qpUIEBuyBy"
      },
      "outputs": [],
      "source": [
        "def load_video_run_openpose(video):\n",
        "  #requires that video_id and connected variables are set.   \n",
        "  print(\"\\n ################################ \\n\")\n",
        "  print(\"#     Run OpenPose:     \")\n",
        "  # Check for the speed of the video\n",
        "  frames_per_s = default_fps            # if everything fails there is a default value\n",
        "  if not os.path.isfile(video):\n",
        "    print(\"There video is missing: \\n \", video)\n",
        "  else:\n",
        "    print(\"OpenPose will now analyse \\n\", video)\n",
        "\n",
        "  print(os.getcwd())\n",
        "  text = !ffprobe -v 0 -of csv=p=0 -select_streams v:0 -show_entries stream=r_frame_rate $video \n",
        "  print(text)\n",
        "  #frames, seconds = text.split(\"/\")\n",
        "  frames, seconds = text[0].split(\"/\")\n",
        "  frames_per_s = int(frames) / int(seconds)\n",
        "  \n",
        "  print(\"Number of frames per second: \", frames_per_s)\n",
        "  print(\"\\n\")\n",
        "  if frames_per_s > 20:\n",
        "    multiplikator_for_images_per_second = frames_per_s / save_frames_per_second\n",
        "  else:\n",
        "    multiplikator_for_images_per_second = default_fps / save_frames_per_second\n",
        "  \n",
        "  # cut the parts of video that we cannot use\n",
        "  # !ffmpeg -y -loglevel info -i \"input_original/youtube.mp4\" -ss $start_mmss -t $duration \"input_original/video.mp4\"\n",
        "  \n",
        "  # detect poses\n",
        "  print(f\"Video for Openpose {video}\") \n",
        "  op_video = output_op_dir + \"/openpose.avi\"\n",
        "  op_json = output_op_dir + \"/json\"\n",
        "\n",
        "  if not os.path.exists(op_json): \n",
        "    !mkdir $op_json\n",
        "  \n",
        "  if skeleton_on_black_background==True: \n",
        "    !cd openpose && ./build/examples/openpose/openpose.bin --video $video --write_json --number_people_max 1 $op_json --display 0 --disable_blending  --write_video $op_video\n",
        "  elif skeleton_on_black_background==False: \n",
        "    !cd openpose && ./build/examples/openpose/openpose.bin --video $video --write_json --number_people_max 1 $op_json --display 0  --write_video $op_video\n",
        "  else:\n",
        "    raise Exception(\"You need to set the variable skeleton_on_black_background\") \n",
        "\n",
        "  \n",
        "  # convert the result into MP4\n",
        "  print(\" \")\n",
        "  print(\"============================== \")\n",
        "  print(\"Converting the stickfigure video to mp4 \")\n",
        "  print(\" \")\n",
        "\n",
        "  op_video_mp4 = output_op_dir + \"/openpose.mp4\"\n",
        "\n",
        "  if os.path.isfile(op_video): \n",
        "    !ffmpeg -y -loglevel info -i $op_video $op_video_mp4 #convert avi til mp4\n",
        "    os.remove(op_video)  # remove avi\n",
        "  else:\n",
        "    print(\"Something went wrong, as there was no output video from Openpose.\")\n",
        "    print(\"the output_op_dir contains:\")\n",
        "    print(os.listdir(output_op_dir))\n",
        "\n",
        "  # print(\" \")\n",
        "  # print(\"Creating single frame images \")\n",
        "  # print(\"============================== \")\n",
        "  # print(\" \")\n",
        "\n",
        "  ## Get only a selection of frames for labeling\n",
        "  ## TODO: the numbering should match the numbering of the json files\n",
        "  # save_frames_per_second = save_frames_per_second \n",
        "  # Optional to get the frames with the stick figures\n",
        "  # !ffmpeg -y -loglevel info -i \"output_op/$clip_name/openpose.mp4\" -s $size_of_single_frame -r $save_frames_per_second -f image2 \"output_op/$clip_name/frame-%06d.jpeg\" \n",
        "\n",
        "  print(\" \")\n",
        "  print(\"============================== \")  \n",
        "# print(video)\n",
        "# text = subprocess.getoutput('ffprobe -v 0 -of csv=p=0 -select_streams v:0 -show_entries stream=r_frame_rate $video') \n",
        "# text.split(\"/\")\n",
        "#frames, seconds = \n",
        "# frames_per_s = int(frames) / int(seconds)\n",
        "# frames_per_s  \n",
        "\n",
        "\n"
      ]
    },
    {
      "cell_type": "markdown",
      "source": [
        "### what does this do?  Can it be removed?"
      ],
      "metadata": {
        "id": "d79hiOTGclHO"
      }
    },
    {
      "cell_type": "code",
      "execution_count": null,
      "metadata": {
        "id": "vTNYuZNcx7H6"
      },
      "outputs": [],
      "source": [
        "check_path(script_path)\n",
        "print(os.listdir(script_path))\n",
        "\n",
        "if not script_path in sys.path:    #otherwise will add anew with every run of script.\n",
        "   sys.path.append(script_path)\n",
        "   print(\"Added script_path to search path.\")\n",
        "\n",
        "# from videoprocessing import delete_outputs, load_video_run_openpose\n",
        "import VideoProcessing as vp\n",
        "\n",
        "# here = os.getcwd()\n",
        "# print(here)\n",
        "# print(sys.path)\n",
        "# sys.path = ['', '/content', '/env/python', '/usr/lib/python37.zip', '/usr/lib/python3.7', '/usr/lib/python3.7/lib-dynload', '/usr/local/lib/python3.7/dist-packages', '/usr/lib/python3/dist-packages', '/usr/local/lib/python3.7/dist-packages/IPython/extensions', '/root/.ipython']"
      ]
    },
    {
      "cell_type": "markdown",
      "source": [
        "### delete_outputs"
      ],
      "metadata": {
        "id": "4G-CCBL_SAdM"
      }
    },
    {
      "cell_type": "code",
      "execution_count": null,
      "metadata": {
        "id": "o8fu6H2PEZT_"
      },
      "outputs": [],
      "source": [
        "def delete_outputs(video_id, root_path, output_dir):\n",
        "    # delete output_files from Openpose if they were already created\n",
        "    print(\"\\n ################################ \\n\")\n",
        "    print(\"Deleting old output files from the \", output_dir, video_id, \" folder\")\n",
        "    # create a list of files to delete\n",
        "    delete_files = glob.glob(os.path.join(root_path, output_dir, video_id, \"json\", \"*.json\"))\n",
        "    delete_files.extend(glob.glob(os.path.join(root_path, output_dir, video_id, \"*.mp4\")))\n",
        "    delete_files.extend(glob.glob(os.path.join(root_path, output_dir, video_id, \"*.MOV\")))\n",
        "    # delete_files.extend(glob.glob(os.path.join(root_path, \"output_op\", clip_name, \"*.avi\")))\n",
        "    # print(\"avi: \", delete_files[-1:])\n",
        "    [os.remove(x) for x in delete_files]\n",
        "\n",
        "    print(\"\\n Now the output folder contains only these files:\")\n",
        "    print(glob.glob(os.path.join(root_path, output_dir, video_id, \"json\", \"*.json\")))"
      ]
    },
    {
      "cell_type": "markdown",
      "source": [
        "### rename_json()"
      ],
      "metadata": {
        "id": "TTc7n8zsSQZM"
      }
    },
    {
      "cell_type": "code",
      "execution_count": null,
      "metadata": {
        "id": "PJjHTmg9EvjT"
      },
      "outputs": [],
      "source": [
        "def rename_json(video_id, root_path, output_dir):\n",
        "    print(\"\\n ################################ \\n\")\n",
        "    print(\"#     Rename JSON files:     \")\n",
        "    ## Better names for JSON\n",
        "    # find all json files and change the name\n",
        "    # os.chdir(original_working_dir)\n",
        "    print(os.getcwd())\n",
        "    paths_json = glob.glob(os.path.join(root_path, output_dir, video_id, \"json\", \"*.json\"))\n",
        "    paths_json = sorted(paths_json, reverse=True)\n",
        "\n",
        "    print(\"there are \", len(paths_json), \" json files to rename\")\n",
        "    if len(paths_json)>0:\n",
        "      for old_file in paths_json:\n",
        "          frame_number = old_file[-21:-15]  # counting backwards is safest, because folder names change\n",
        "          # print(f\"Frame {frame_number}\")\n",
        "          # print(f\"Old name {old_file}\")\n",
        "          new_file_name = os.path.join(root_path, output_dir, video_id, \"json\") + \"/frame-\" + frame_number + \".json\"\n",
        "          # print(f\"New name {new_file_name}\")\n",
        "          os.rename(old_file, new_file_name)\n",
        "\n",
        "      print(\" \")\n",
        "      print(\"All json are now renamed.\")\n",
        "    else:\n",
        "      print(\"nothing to be done.\")  \n",
        "    print(\"============================== \")\n",
        "\n",
        "    # delete old names\n",
        "    # [os.remove(x) for x in paths_json]\n",
        "    print(\" \")"
      ]
    },
    {
      "cell_type": "code",
      "execution_count": null,
      "metadata": {
        "id": "dxIs1ZDhpV-P"
      },
      "outputs": [],
      "source": [
        "# ??vp.rename_json() \n",
        "os.path.isfile(\"/content/gdrive/MyDrive/DanceApp/1P_input_original/1p_ThomasW_16012122_choreo1.mp4\")"
      ]
    },
    {
      "cell_type": "code",
      "source": [
        ""
      ],
      "metadata": {
        "id": "cvK9SIfPCfsH"
      },
      "execution_count": null,
      "outputs": []
    },
    {
      "cell_type": "markdown",
      "source": [
        "### play_video_in_colab"
      ],
      "metadata": {
        "id": "SLRvRylESco8"
      }
    },
    {
      "cell_type": "code",
      "source": [
        "def play_video_in_colab(video_show):\n",
        "  #video_show should be a full path.\n",
        "  # this only plays compressed files!\n",
        "  from IPython.display import HTML\n",
        "  from base64 import b64encode\n",
        "  if os.path.isfile(video_show):\n",
        "      print(\"The videofile to be shown does exist.\")\n",
        "      print(\"This player is not able to play large uncompressed videos.\")\n",
        "  else:\n",
        "      print(\"The videofile to be shown does NOT exist.\")\n",
        "\n",
        "  mp4 = open(video_show,'rb').read()\n",
        "  data_url = \"data:video/mp4;base64,\" + b64encode(mp4).decode()\n",
        "  HTML(\"\"\"\n",
        "  <video width=300 controls>\n",
        "        <source src=\"%s\" type=\"video/mp4\">\n",
        "  </video>\n",
        "  \"\"\" % data_url)"
      ],
      "metadata": {
        "id": "krM4KZuzCrke"
      },
      "execution_count": null,
      "outputs": []
    },
    {
      "cell_type": "markdown",
      "source": [
        "### Watch single video"
      ],
      "metadata": {
        "id": "6UkorzEGp5To"
      }
    },
    {
      "cell_type": "code",
      "source": [
        "video_show = \"/content/gdrive/MyDrive/DanceApp/1P_input_original/h920/1p_ThomasW_girl_16012022_choreo1_h920.mp4\"\n",
        "# video_show = \"/content/gdrive/MyDrive/DanceApp/1P_input_original/1p_ThomasW_girl_16012022_choreo1.mp4\"\n",
        "# play_video_in_colab(video_show=video_show)\n",
        "\n"
      ],
      "metadata": {
        "id": "SDdNCxYkZiVU"
      },
      "execution_count": null,
      "outputs": []
    },
    {
      "cell_type": "markdown",
      "metadata": {
        "id": "iWFCZNTlMU4f"
      },
      "source": [
        "# Main Part"
      ]
    },
    {
      "cell_type": "markdown",
      "source": [
        "## Variables = controlling the run"
      ],
      "metadata": {
        "id": "JK92ZgPETNM-"
      }
    },
    {
      "cell_type": "code",
      "source": [
        "# Global variables with Paths for all the functions\n",
        "size_of_single_frame = \"640x360\"\n",
        "save_frames_per_second = 5  # the number of jpgs per second TODO: remove?\n",
        "default_fps = 30     # the default frames per second of the videos, \n",
        "                     # which often is wrong.\n",
        "                     # IF we use timecodes it\n",
        "                     # needs to be corrected after the download\n",
        "                     # so that the json and jpg files match each other \n",
        "                     \n",
        "video_size = \"h920\"        # used to file and folder names\n",
        "output_dir = \"output_op_1p\"\n",
        "input_dir = \"1P_input_original\"\n",
        "skeleton_on_black_background = True\n",
        "\n",
        "# The names of the videos to be processed.\n",
        "# these can NOT have spaces in them. Rename with underscore\".\n",
        "\"\"\"\n",
        "\n",
        "video_list = [ \n",
        " '1p_Artur_05122021_chreo1.mp4',\n",
        " '1p_Earl_05122021_choreo1_flipped_lr.mp4',\n",
        " '1p_Eero_1_05122021_choreo1.mp4',\n",
        " '1p_Eero_4_05122021_choreo1.mp4',\n",
        " '1p_Eero_6_05122021_choreo1.mp4',\n",
        " '1p_Eero_7_05122021_choreo1.mp4',\n",
        " '1p_Dirk_choreo1_04.12.2021.mp4',\n",
        " '1p_Heidi_07122021_choreo1_-turns.MOV',\n",
        " '1p_JonathanB_05122021_choreo1.MOV',\n",
        " '1P-Person1-whole.mp4',\n",
        " '1p_Raquelinha_05122021_choreo1.mp4',\n",
        " '1p_sarah_salsa_basics_choreo1.mp4',\n",
        " '1p_Stef_1_05122021_Choreo1.mp4',\n",
        " '1p_Stef_2_05122021_Choreo1.mp4',\n",
        " '1p_Stef_3_05122021_chroeo1.mp4',\n",
        "]\n",
        "\"\"\"\n",
        "\n",
        "#third list of videos\n",
        "\"\"\"video_list = [ \n",
        "              \"1p_abtin_1_choreo1.mp4\",\n",
        "              \"1p_abtin_2_choreo1.mp4\",\n",
        "              \"1p_Vassil_2_11122021_Choreo1.mp4\",\n",
        "]\n",
        "\"\"\"\n",
        "#/content/gdrive/MyDrive/DanceApp/1P_input_original/1p_ThomasW_16012122_choreo1.mp4\n",
        "#fourth list of videos\n",
        "video_list = [\"1p_ThomasW_16012022_choreo1.mp4\"]\n",
        "              # \"1p_Daniele_16012022_choreo1.mp4\",\n",
        "              # \"1p_20211216_Francesca_Zeni.mp4\",\n",
        "              # \"1p_ThomasW_girl_16012022_choreo1.mp4\",\n",
        "                           \n",
        "\n"
      ],
      "metadata": {
        "id": "aySUKeuITaOf"
      },
      "execution_count": null,
      "outputs": []
    },
    {
      "cell_type": "code",
      "source": [
        "### Variables that are calculated from the ones above.\n",
        "new_height = \"\".join([chr for chr in video_size if chr.isdigit()]) #used to resize          \n",
        "input_video_fullsize_dir = os.path.join(root_path, input_dir) \n",
        "input_video_resized_dir = os.path.join(root_path, input_dir, video_size)\n",
        "check_path(input_video_fullsize_dir)\n",
        "check_path(input_video_resized_dir)\n"
      ],
      "metadata": {
        "id": "iG_BnrcJWgD6"
      },
      "execution_count": null,
      "outputs": []
    },
    {
      "cell_type": "code",
      "execution_count": null,
      "metadata": {
        "id": "YRlNKQ6XIsNq"
      },
      "outputs": [],
      "source": [
        "check_path(root_path)\n",
        "check_path(script_path)\n"
      ]
    },
    {
      "cell_type": "markdown",
      "source": [
        "## Processing the videos"
      ],
      "metadata": {
        "id": "JJx3bha1XN-4"
      }
    },
    {
      "cell_type": "code",
      "execution_count": null,
      "metadata": {
        "id": "HllnodB2JGAQ"
      },
      "outputs": [],
      "source": [
        "\n",
        "print(\"\\n ################################ \\n\")\n",
        "\n",
        "for i in range(len(video_list)):\n",
        "  clip_name = video_list[i]\n",
        "  video_id = splitext(video_list[i])[0]\n",
        "  video_in = os.path.join(input_video_fullsize_dir, clip_name)\n",
        "  video_name, video_ext = splitext(video_in)\n",
        "  video_resized = input_video_resized_dir + \"/\" + video_id + '_' + video_size + video_ext \n",
        "  print(\"video fullsize: \", video_in)\n",
        "  print(\"video_resized: \", video_resized)\n",
        "  print(video_ext)\n",
        "\n",
        "  # Video Processing and OpenPose  \n",
        "  #from pathlib import Path as P\n",
        "  output_main = os.path.join(root_path, output_dir)\n",
        "  if not os.path.isdir(output_main): \n",
        "    os.makedirs(output_main, exist_ok=True)\n",
        "  \n",
        "  output_op_dir = os.path.join(output_main, video_id)\n",
        "  if not os.path.isdir(output_op_dir): \n",
        "    os.makedirs(output_op_dir, exist_ok=True) \n",
        "  \n",
        "  print(\"Processing video\", clip_name)\n",
        "  \n",
        "  video_resized = resize_video(new_height = new_height, \n",
        "                               video_in=video_in, \n",
        "                               clip_name=clip_name, \n",
        "                               src_folder=input_dir)\n",
        "  \n",
        "  delete_outputs(video_id=video_id, root_path=root_path, output_dir=output_dir)\n",
        "  load_video_run_openpose(video=video_resized)\n",
        "  rename_json(video_id, root_path=root_path, output_dir=output_dir)\n",
        "\n",
        "  # Creating the annotation file\n",
        "  # TODO: make os independent. use shutil.copy(src, dst) and os.path() \n",
        "  # !cp $script_path/AnnotationFile.py .\n",
        "  # !python AnnotationFile.py $output_op_dir\n",
        "  \n",
        "  # Parsing JSON and adding information from annotation\n",
        "  # Anot_file = output_op_dir + \"/Annotation.json\" \n",
        "  # !cp $script_path/Parsing-Openpose-Annotation.py .\n",
        "  # !python Parsing-Openpose-Annotation.py $video_id $output_op_dir $Anot_file\n",
        "\n",
        "\n",
        "\n"
      ]
    }
  ],
  "metadata": {
    "accelerator": "GPU",
    "colab": {
      "collapsed_sections": [],
      "name": "Running_OpenPose_Pipeline.ipynb",
      "provenance": [],
      "machine_shape": "hm",
      "private_outputs": true,
      "toc_visible": true,
      "include_colab_link": true
    },
    "kernelspec": {
      "display_name": "Python 3",
      "name": "python3"
    },
    "language_info": {
      "name": "python"
    }
  },
  "nbformat": 4,
  "nbformat_minor": 0
}