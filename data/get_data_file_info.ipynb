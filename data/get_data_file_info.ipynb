{
 "cells": [
  {
   "cell_type": "markdown",
   "metadata": {},
   "source": [
    "#Check the data files used"
   ]
  },
  {
   "cell_type": "code",
   "execution_count": 8,
   "metadata": {},
   "outputs": [
    {
     "name": "stdout",
     "output_type": "stream",
     "text": [
      "/home/eero_ds/SalsaAnnotation\n"
     ]
    }
   ],
   "source": [
    "import pandas as pd\n",
    "import os\n",
    "\n",
    "os.chdir(\"/home/eero_ds/SalsaAnnotation\")\n",
    "print(os.getcwd())\n"
   ]
  },
  {
   "cell_type": "code",
   "execution_count": 15,
   "metadata": {},
   "outputs": [],
   "source": [
    "def show_clips_used(csv_file, folder):\n",
    "        df = pd.read_csv(os.path.join(folder, csv_file))\n",
    "        clips_used = set(df[\"clip_name\"])\n",
    "        return clips_used \n",
    "\n"
   ]
  },
  {
   "cell_type": "code",
   "execution_count": 26,
   "metadata": {},
   "outputs": [
    {
     "name": "stdout",
     "output_type": "stream",
     "text": [
      "Data_train_norm.csv : number of clips is 12\n",
      "    1p_Artur_05122021_chreo1\n",
      "    1p_sarah_salsa_basics_choreo1\n",
      "    1p_Eero_6_05122021_choreo1\n",
      "    1p_Eero_4_05122021_choreo1\n",
      "    1p_Eero_7_05122021_choreo1\n",
      "    1p_Raquelinha_05122021_choreo1\n",
      "    1p_Stef_2_05122021_Choreo1\n",
      "    1p_Heidi_07122021_choreo1_-turns\n",
      "    1p_Eero_1_05122021_choreo1\n",
      "    1p_Dirk_choreo1_04.12.2021\n",
      "    1P-Person1-whole\n",
      "    1p_Earl_05122021_choreo1_flipped_lr\n",
      "Data_train_orig_01_aug_x_xy.csv : number of clips is 16\n",
      "    1p_Artur_05122021_chreo1\n",
      "    1p_sarah_salsa_basics_choreo1\n",
      "    1p_Ana_c2_20211212\n",
      "    1p_Eero_6_05122021_choreo1\n",
      "    1p_Eero_4_05122021_choreo1\n",
      "    1p_Eero_7_05122021_choreo1\n",
      "    1p_Jesus\n",
      "    1p_Raquelinha_05122021_choreo1\n",
      "    1p_Elizabet\n",
      "    1p_Stef_2_05122021_Choreo1\n",
      "    1p_Ana_c1\n",
      "    1p_Heidi_07122021_choreo1_-turns\n",
      "    1p_Eero_1_05122021_choreo1\n",
      "    1p_Dirk_choreo1_04.12.2021\n",
      "    1P-Person1-whole\n",
      "    1p_Earl_05122021_choreo1_flipped_lr\n",
      "Data_val_norm.csv : number of clips is 12\n",
      "    1p_Artur_05122021_chreo1\n",
      "    1p_sarah_salsa_basics_choreo1\n",
      "    1p_Eero_6_05122021_choreo1\n",
      "    1p_Eero_4_05122021_choreo1\n",
      "    1p_Eero_7_05122021_choreo1\n",
      "    1p_Raquelinha_05122021_choreo1\n",
      "    1p_Stef_2_05122021_Choreo1\n",
      "    1p_Heidi_07122021_choreo1_-turns\n",
      "    1p_Eero_1_05122021_choreo1\n",
      "    1p_Dirk_choreo1_04.12.2021\n",
      "    1P-Person1-whole\n",
      "    1p_Earl_05122021_choreo1_flipped_lr\n",
      "Data_val_norm_1.csv : number of clips is 16\n",
      "    1p_Artur_05122021_chreo1\n",
      "    1p_sarah_salsa_basics_choreo1\n",
      "    1p_Ana_c2_20211212\n",
      "    1p_Eero_4_05122021_choreo1\n",
      "    1p_Eero_7_05122021_choreo1\n",
      "    1p_Elizabet\n",
      "    1p_Raquelinha_05122021_choreo1\n",
      "    1p_Jesus\n",
      "    1p_Stef_2_05122021_Choreo1\n",
      "    1p_Heidi_07122021_choreo1_-turns\n",
      "    1p_Ana_c1\n",
      "    1p_Eero_1_05122021_choreo1\n",
      "    1P-Person1-whole\n",
      "    1p_Dirk_choreo1_04.12.2021\n",
      "    1p_Eero_6_05122021_choreo1\n",
      "    1p_Earl_05122021_choreo1_flipped_lr\n",
      "Data_train_norm_1.csv : number of clips is 16\n",
      "    1p_Artur_05122021_chreo1\n",
      "    1p_sarah_salsa_basics_choreo1\n",
      "    1p_Ana_c2_20211212\n",
      "    1p_Eero_6_05122021_choreo1\n",
      "    1p_Eero_4_05122021_choreo1\n",
      "    1p_Eero_7_05122021_choreo1\n",
      "    1p_Jesus\n",
      "    1p_Raquelinha_05122021_choreo1\n",
      "    1p_Elizabet\n",
      "    1p_Stef_2_05122021_Choreo1\n",
      "    1p_Ana_c1\n",
      "    1p_Heidi_07122021_choreo1_-turns\n",
      "    1p_Eero_1_05122021_choreo1\n",
      "    1p_Dirk_choreo1_04.12.2021\n",
      "    1P-Person1-whole\n",
      "    1p_Earl_05122021_choreo1_flipped_lr\n"
     ]
    }
   ],
   "source": [
    "folder = \"ml/models/Data_train_validate/\"\n",
    "csv_files = [name for name in  os.listdir(folder)\n",
    "             if name.endswith('.csv')\n",
    "        ]\n",
    "for name in csv_files:\n",
    "    clips_used = show_clips_used(csv_file=name, folder=folder)\n",
    "    print(f\"{name} : number of clips is {len(clips_used)}\") \n",
    "    for file in clips_used:\n",
    "        print(f\"    {file}\")"
   ]
  },
  {
   "cell_type": "code",
   "execution_count": 16,
   "metadata": {},
   "outputs": [
    {
     "data": {
      "text/plain": [
       "{'1P-Person1-whole',\n",
       " '1p_Ana_c1',\n",
       " '1p_Ana_c2_20211212',\n",
       " '1p_Artur_05122021_chreo1',\n",
       " '1p_Dirk_choreo1_04.12.2021',\n",
       " '1p_Earl_05122021_choreo1_flipped_lr',\n",
       " '1p_Eero_1_05122021_choreo1',\n",
       " '1p_Eero_4_05122021_choreo1',\n",
       " '1p_Eero_6_05122021_choreo1',\n",
       " '1p_Eero_7_05122021_choreo1',\n",
       " '1p_Elizabet',\n",
       " '1p_Heidi_07122021_choreo1_-turns',\n",
       " '1p_Jesus',\n",
       " '1p_Raquelinha_05122021_choreo1',\n",
       " '1p_Stef_2_05122021_Choreo1',\n",
       " '1p_sarah_salsa_basics_choreo1'}"
      ]
     },
     "execution_count": 16,
     "metadata": {},
     "output_type": "execute_result"
    }
   ],
   "source": [
    "show_clips_used(csv_file='Data_train_orig_01_aug_x_xy.csv', folder=\"ml/models/Data_train_validate/\")"
   ]
  }
 ],
 "metadata": {
  "interpreter": {
   "hash": "14a1ae3cc9132fb3baad0e823e33e2258ce53b6f91f141c5cc8d6fb890e26d09"
  },
  "kernelspec": {
   "display_name": "Python 3.8.12 ('testing_salsa')",
   "language": "python",
   "name": "python3"
  },
  "language_info": {
   "codemirror_mode": {
    "name": "ipython",
    "version": 3
   },
   "file_extension": ".py",
   "mimetype": "text/x-python",
   "name": "python",
   "nbconvert_exporter": "python",
   "pygments_lexer": "ipython3",
   "version": "3.8.12"
  },
  "orig_nbformat": 4
 },
 "nbformat": 4,
 "nbformat_minor": 2
}
