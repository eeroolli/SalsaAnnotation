{
 "cells": [
  {
   "cell_type": "code",
   "execution_count": 80,
   "id": "b0031232",
   "metadata": {},
   "outputs": [],
   "source": [
    "import numpy as np\n",
    "import pandas as pd\n",
    "import matplotlib.pyplot as plt\n",
    "#import xgboost as xgb\n",
    "from sklearn.model_selection import train_test_split\n",
    "from sklearn.preprocessing import LabelEncoder \n",
    "#from xgboost import XGBClassifier\n",
    "from sklearn.metrics import accuracy_score\n",
    "from sklearn.ensemble import GradientBoostingClassifier"
   ]
  },
  {
   "cell_type": "code",
   "execution_count": 81,
   "id": "d49891b8",
   "metadata": {},
   "outputs": [],
   "source": [
    "# Fixing format of the label\n",
    "def enc_label(label):\n",
    "    code = 0\n",
    "    if label == \"right-turn\":\n",
    "        code = 1\n",
    "    if label == \"side\":\n",
    "        code = 2\n",
    "    if label == \"cuban-basic\":\n",
    "        code = 3\n",
    "    if label == \"suzie-q\":\n",
    "        code = 4\n",
    "    return code\n",
    "\n",
    "# Define hyperparameters\n",
    "BATCH_SIZE = 64\n",
    "EPOCHS = 100\n",
    "MAX_SEQ_LENGTH = 40   # number of frames per figure\n",
    "\n",
    "# Import the data\n",
    "PATH_DATA_TRAIN = \"Data_train_validate/Data_train_norm.csv\"\n",
    "PATH_DATA_VAL = \"Data_train_validate/Data_val_norm.csv\"\n",
    "data_train = pd.read_csv(PATH_DATA_TRAIN)\n",
    "data_val = pd.read_csv(PATH_DATA_VAL)"
   ]
  },
  {
   "cell_type": "code",
   "execution_count": 82,
   "id": "29481df5",
   "metadata": {},
   "outputs": [],
   "source": [
    "# columns to kee in the model\n",
    "\n",
    "#cols = ['neck_x', 'neck_y', \n",
    "#        'rshoulder_x', 'rshoulder_y',\n",
    "#        'lshoulder_x', 'lshoulder_y', \n",
    "#        'midhip_x', 'midhip_y', \n",
    "#        'rhip_x', 'rhip_y', \n",
    "#        'rknee_x', 'rknee_y', \n",
    "#        'rankle_x', 'rankle_y', \n",
    "#        'lhip_x', 'lhip_y', \n",
    "#        'lknee_x', 'lknee_y', \n",
    "#        'lankle_x', 'lankle_y',\n",
    "#        'label']"
   ]
  },
  {
   "cell_type": "code",
   "execution_count": 83,
   "id": "760005a3",
   "metadata": {},
   "outputs": [],
   "source": [
    "cols = ['nose_x', 'nose_y', 'neck_x',\n",
    "       'neck_y', 'rshoulder_x', 'rshoulder_y', 'relbow_x', 'relbow_y',\n",
    "       'rwrist_x', 'rwrist_y', 'lshoulder_x', 'lshoulder_y', 'lelbow_x',\n",
    "       'lelbow_y', 'lwrist_x', 'lwrist_y', 'midhip_x', 'midhip_y', 'rhip_x',\n",
    "       'rhip_y', 'rknee_x', 'rknee_y', 'rankle_x', 'rankle_y', 'lhip_x',\n",
    "       'lhip_y', 'lknee_x', 'lknee_y', 'lankle_x', 'lankle_y', 'reye_x',\n",
    "       'reye_y', 'leye_x', 'leye_y', 'rear_x', 'rear_y', 'lear_x', 'lear_y',\n",
    "       'lbigtoe_x', 'lbigtoe_y', 'lsmalltoe_x', 'lsmalltoe_y', 'lheal_x',\n",
    "       'lheal_y', 'rbigtoe_x', 'rbigtoe_y', 'rsmalltoe_x', 'rsmalltoe_y',\n",
    "       'rheal_x', 'rheal_y', 'label']"
   ]
  },
  {
   "cell_type": "code",
   "execution_count": 84,
   "id": "8927966e",
   "metadata": {},
   "outputs": [],
   "source": [
    "NUM_FEATURES = len(cols) - 1     # number of join coordinates"
   ]
  },
  {
   "cell_type": "code",
   "execution_count": 85,
   "id": "13cd83f5",
   "metadata": {},
   "outputs": [
    {
     "name": "stdout",
     "output_type": "stream",
     "text": [
      "50\n"
     ]
    }
   ],
   "source": [
    "print(NUM_FEATURES)"
   ]
  },
  {
   "cell_type": "code",
   "execution_count": 86,
   "id": "df49063a",
   "metadata": {},
   "outputs": [],
   "source": [
    "# Function to select a number of frames per figure and right in the correct format for the mdoel\n",
    "\n",
    "def transf_data(data):\n",
    "    # Data preprocessing, get the input X and the label y\n",
    "    ind_start = data[data['status'] == \"S\"].index.tolist()\n",
    "    ind_end = data[data['status'] == \"E\"].index.tolist()\n",
    "\n",
    "    # Take intervals between consecutive \"S\", they define one figure\n",
    "    X = []\n",
    "    y = []\n",
    "    \n",
    "    # Keep only some columns in the XGBoost-model\n",
    "    data_copy = data.copy()\n",
    "    data_copy = data_copy.loc[:, cols].reset_index(drop=True)\n",
    "   \n",
    "\n",
    "    for i in range(len(ind_start) - 1):\n",
    "        X.append(data_copy.iloc[ind_start[i]: ind_end[i], :-1])  # the last 25 (visibility ) + 2\n",
    "        y.append(data_copy.loc[ind_start[i], 'label'])\n",
    "\n",
    "    # select frames from the interval\n",
    "    ind_samp = []\n",
    "\n",
    "    for i in range(len(ind_start) - 1):\n",
    "        # Take frames that are evenlly distributed\n",
    "        aux = np.linspace(ind_start[i]\n",
    "                          , ind_end[i]\n",
    "                          , MAX_SEQ_LENGTH\n",
    "                          , endpoint=False).astype(int)\n",
    "\n",
    "        # random\n",
    "        # aux = np.random.randint(ind_start[i], ind_end[i], MAX_SEQ_LENGTH)\n",
    "        # aux.sort()\n",
    "        ind_samp.append(aux)\n",
    "\n",
    "    # Changing format of the data to be compatible with Tensor Flow\n",
    "    X = [x.loc[ind_samp[ind], :].to_numpy() for (ind, x) in enumerate(X)]\n",
    "    X = np.array(X)\n",
    "    X = X.reshape(len(ind_start) - 1, MAX_SEQ_LENGTH * NUM_FEATURES).astype(\"float32\")\n",
    "    # TODO: decide of the X values need to be normalized\n",
    "    y = [enc_label(x) for x in y]\n",
    "    y = np.array(y).astype(\"float32\")\n",
    "\n",
    "    return X, y\n",
    "\n"
   ]
  },
  {
   "cell_type": "code",
   "execution_count": 87,
   "id": "1b0324f3",
   "metadata": {},
   "outputs": [],
   "source": [
    "# Train set\n",
    "X_train, y_train = transf_data(data_train)\n",
    "X_val, y_val = transf_data(data_val)"
   ]
  },
  {
   "cell_type": "code",
   "execution_count": 88,
   "id": "a003fcb1",
   "metadata": {},
   "outputs": [
    {
     "data": {
      "text/plain": [
       "(384, 2000)"
      ]
     },
     "execution_count": 88,
     "metadata": {},
     "output_type": "execute_result"
    }
   ],
   "source": [
    "X_train.shape"
   ]
  },
  {
   "cell_type": "code",
   "execution_count": 89,
   "id": "c0ef2a94",
   "metadata": {},
   "outputs": [],
   "source": [
    "clf = GradientBoostingClassifier(n_estimators=150, learning_rate=1.0,\n",
    "...     max_depth=1, random_state=0).fit(X_train, y_train)"
   ]
  },
  {
   "cell_type": "code",
   "execution_count": 90,
   "id": "c0b2c102",
   "metadata": {},
   "outputs": [
    {
     "data": {
      "text/plain": [
       "1.0"
      ]
     },
     "execution_count": 90,
     "metadata": {},
     "output_type": "execute_result"
    }
   ],
   "source": [
    "clf.score(X_train, y_train)"
   ]
  },
  {
   "cell_type": "code",
   "execution_count": 91,
   "id": "4dbb7f71",
   "metadata": {},
   "outputs": [
    {
     "data": {
      "text/plain": [
       "0.46808510638297873"
      ]
     },
     "execution_count": 91,
     "metadata": {},
     "output_type": "execute_result"
    }
   ],
   "source": [
    "clf.score(X_val, y_val)"
   ]
  }
 ],
 "metadata": {
  "kernelspec": {
   "display_name": "model",
   "language": "python",
   "name": "model"
  },
  "language_info": {
   "codemirror_mode": {
    "name": "ipython",
    "version": 3
   },
   "file_extension": ".py",
   "mimetype": "text/x-python",
   "name": "python",
   "nbconvert_exporter": "python",
   "pygments_lexer": "ipython3",
   "version": "3.8.12"
  }
 },
 "nbformat": 4,
 "nbformat_minor": 5
}
