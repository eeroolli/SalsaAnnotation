{
 "cells": [
  {
   "cell_type": "code",
   "execution_count": null,
   "id": "cc37e035",
   "metadata": {},
   "outputs": [
    {
     "name": "stdout",
     "output_type": "stream",
     "text": [
      "(142626, 82)\n",
      "n of labels in training data \n",
      " basic          31734\n",
      "right-turn     28785\n",
      "cuban-basic    27588\n",
      "suzie-q        27450\n",
      "side           27069\n",
      "Name: label, dtype: int64\n",
      "n of frames in training data  142626\n",
      "n of labels in validation data \n",
      " right-turn     2512\n",
      "basic          2340\n",
      "side           2169\n",
      "cuban-basic    2077\n",
      "suzie-q        2015\n",
      "Name: label, dtype: int64\n",
      "n of frames in validation data  11113\n",
      "\n",
      " ######################################################## \n",
      "\n"
     ]
    },
    {
     "name": "stderr",
     "output_type": "stream",
     "text": [
      "2022-04-04 10:19:44.569437: I tensorflow/compiler/jit/xla_cpu_device.cc:41] Not creating XLA devices, tf_xla_enable_xla_devices not set\n",
      "2022-04-04 10:19:44.570763: I tensorflow/core/platform/cpu_feature_guard.cc:142] This TensorFlow binary is optimized with oneAPI Deep Neural Network Library (oneDNN) to use the following CPU instructions in performance-critical operations:  SSE4.1 SSE4.2 AVX AVX2 FMA\n",
      "To enable them in other operations, rebuild TensorFlow with the appropriate compiler flags.\n",
      "2022-04-04 10:19:44.578740: I tensorflow/core/common_runtime/process_util.cc:146] Creating new thread pool with default inter op setting: 2. Tune using inter_op_parallelism_threads for best performance.\n"
     ]
    },
    {
     "name": "stdout",
     "output_type": "stream",
     "text": [
      "X_train:  <dtype: 'float32'>\n",
      "y_train:  <dtype: 'float32'>\n"
     ]
    },
    {
     "name": "stderr",
     "output_type": "stream",
     "text": [
      "2022-04-04 10:19:51.519390: I tensorflow/compiler/mlir/mlir_graph_optimization_pass.cc:116] None of the MLIR optimization passes are enabled (registered 2)\n",
      "2022-04-04 10:19:51.559382: I tensorflow/core/platform/profile_utils/cpu_utils.cc:112] CPU Frequency: 3000005000 Hz\n"
     ]
    },
    {
     "name": "stdout",
     "output_type": "stream",
     "text": [
      "Epoch 1/4\n",
      "13/13 [==============================] - 111s 4s/step - loss: 1.7817 - accuracy: 0.2047 - val_loss: 1.7479 - val_accuracy: 0.1935\n",
      "Epoch 2/4\n",
      "13/13 [==============================] - 22s 2s/step - loss: 1.7486 - accuracy: 0.2064 - val_loss: 1.7248 - val_accuracy: 0.2016\n",
      "Epoch 3/4\n",
      "13/13 [==============================] - 20s 2s/step - loss: 1.7240 - accuracy: 0.2172 - val_loss: 1.6978 - val_accuracy: 0.2016\n",
      "Epoch 4/4\n",
      " 8/13 [=================>............] - ETA: 7s - loss: 1.6937 - accuracy: 0.2187"
     ]
    }
   ],
   "source": [
    "%run ml/models/GRU/GRU_Emb_Drop_EO_04_tensorflow2.py"
   ]
  },
  {
   "cell_type": "code",
   "execution_count": null,
   "id": "30f82a6c",
   "metadata": {},
   "outputs": [],
   "source": []
  }
 ],
 "metadata": {
  "kernelspec": {
   "display_name": "Python 3 (ipykernel)",
   "language": "python",
   "name": "python3"
  },
  "language_info": {
   "codemirror_mode": {
    "name": "ipython",
    "version": 3
   },
   "file_extension": ".py",
   "mimetype": "text/x-python",
   "name": "python",
   "nbconvert_exporter": "python",
   "pygments_lexer": "ipython3",
   "version": "3.8.12"
  }
 },
 "nbformat": 4,
 "nbformat_minor": 5
}
